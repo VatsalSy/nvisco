{
 "cells": [
  {
   "cell_type": "code",
   "execution_count": 31,
   "id": "62c2054f-4b07-4567-91ba-e710c0267969",
   "metadata": {},
   "outputs": [],
   "source": [
    "import numpy as np, matplotlib.pyplot as plt\n",
    "from sympy import Symbol, Matrix, solve"
   ]
  },
  {
   "cell_type": "markdown",
   "id": "d84d716e-bf08-4289-8702-87604b8ab6ea",
   "metadata": {},
   "source": [
    "# Anisotropic finite viscoelasticity\n",
    "##### Source: Liu et al. 2019"
   ]
  },
  {
   "cell_type": "code",
   "execution_count": 161,
   "id": "c44c59b3-2676-4eb7-9b89-9b56f538cc4b",
   "metadata": {},
   "outputs": [],
   "source": [
    "def eval_liu(F, Cvminv, I4v, dt):\n",
    "    #========================\n",
    "    # Material parameters (Table 2)\n",
    "    beta1 = 0 \n",
    "    beta2 = 1.4\n",
    "    tau1  = 1\n",
    "    tau2  = 0.695\n",
    "    kappa = 1e6       # [MPa]\n",
    "    c     = 0.113     # [MPa]\n",
    "    k1    = 0.18      # [MPa]\n",
    "    k2    = 34.16\n",
    "    a0 = np.array([1,0,0])\n",
    "    #========================\n",
    "    \n",
    "    #========================\n",
    "    # Material parameters (Table 1)\n",
    "    beta1 = 1\n",
    "    beta2 = 1\n",
    "    tau1  = 1\n",
    "    tau2  = 1\n",
    "    kappa = 1e6       # [MPa]\n",
    "    c     = 0.877     # [MPa]\n",
    "    k1    = 0.154     # [MPa]\n",
    "    k2    = 34.157\n",
    "    a0 = np.array([1,0,0])\n",
    "    #========================\n",
    "    \n",
    "    C = np.dot(F,F.transpose())\n",
    "    Cinv = np.linalg.inv(C)\n",
    "    J = np.linalg.det(F)\n",
    "    Cbar = J**(-2/3)*C\n",
    "    Cbarinv = np.linalg.inv(Cbar)\n",
    "    I1 = C[0,0] + C[1,1] + C[2,2]\n",
    "    \n",
    "    #================= Algorithm 1: Evolution equation of the isotropic viscous part =================#\n",
    "    #Eq. (47) turns into a 3rd order polynomial in alpha\n",
    "    A = Cvminv\n",
    "    B = Cinv\n",
    "    aux1 =    B[0,0]*B[1,2]*B[2,2] -   B[0,0]*B[1,2]**2     -   B[0,1]**2*B[2,2]     + 2*B[0,1]*B[0,2]*B[1,2] -   B[0,2]**2*B[1,1]\n",
    "    aux2 =    A[0,0]*B[1,1]*B[2,2] -   A[0,0]*B[1,2]**2     - 2*A[0,1]*B[0,1]*B[2,2] + 2*A[0,1]*B[0,2]*B[1,2] + 2*A[0,2]*B[0,1]*B[1,2] - \\\n",
    "            2*A[0,2]*B[0,2]*B[1,1] +   A[1,1]*B[0,0]*B[2,2] -   A[1,1]*B[0,2]**2     - 2*A[1,2]*B[0,0]*B[1,2] + 2*A[1,2]*B[0,1]*B[0,2] + \\\n",
    "              A[2,2]*B[0,0]*B[1,1] -   A[2,2]*B[0,1]**2\n",
    "    aux3 =    A[0,0]*A[1,1]*B[2,2] - 2*A[0,0]*A[1,2]*B[1,2] +   A[0,0]*A[2,2]*B[1,1] -   A[0,1]**2*B[2,2]     + 2*A[0,1]*A[0,2]*B[1,2] + \\\n",
    "            2*A[0,1]*A[1,2]*B[1,2] - 2*A[0,1]*A[2,2]*B[0,1] -   A[0,2]**2*B[1,1]     - 2*A[0,2]*A[1,1]*B[0,2] + 2*A[0,2]*A[1,2]*B[0,1] + \\\n",
    "              A[1,1]*A[2,2]*B[0,0] -   A[1,2]**2*B[0,0]\n",
    "    aux4 =    A[0,0]*A[1,1]*A[2,2] -   A[0,0]*A[1,2]**2     -   A[0,1]**2*A[2,2]     + 2*A[0,1]*A[1,2]*A[1,2] -   A[0,2]**2*A[1,1]\n",
    "    aux1 = aux1*dt**3\n",
    "    aux2 = aux2*dt**2\n",
    "    aux3 = aux3*dt\n",
    "    aux4 = aux4 - (tau1+dt)**3/tau1**3\n",
    "    alpha = np.roots([aux1, aux2, aux3, aux4])\n",
    "    \n",
    "    # !!TODO: pick the right alpha from the 3 solutions. So far I am just picking the first real, non-negative solution\n",
    "    \n",
    "    alpha = alpha[np.isreal(alpha)]\n",
    "    alpha = alpha[alpha>=0]\n",
    "    alpha = alpha[0]\n",
    "    \n",
    "    Cvminvnew = tau1/(tau1+dt)*(Cvminv + alpha*dt*Cinv) # (47)\n",
    "    \n",
    "    Psiebar = beta1*c # (14)\n",
    "    \n",
    "    Svisiso = 2*Psiebar*J**(-2/3)*(Cvminvnew - 1/3*(np.tensordot(C, Cvminvnew))*Cinv) #(19)\n",
    "    #=================================================================================================#\n",
    "    \n",
    "    #================ Algorithm 2: Evolution equation of the anisotropic viscous part ================#\n",
    "\n",
    "    I4ebar = np.tensordot(Cbar,np.outer(a0,a0))/I4v #(50) #Note that I4v = I4vbar since the viscous part is isochoric\n",
    "    \n",
    "    #Solve (49) with NR\n",
    "    res = 1\n",
    "    iter = 0\n",
    "    I4ebarnew = I4ebar # Initial guess for I4ebarnew\n",
    "    #print('---')\n",
    "    while np.abs(res)>1.-6 and iter<10:\n",
    "        eps = 1.-9\n",
    "        res  = I4ebarnew     + (dt/tau2*I4ebarnew*(I4ebarnew    -1))/( I4ebarnew     *(1+2*k2*(I4ebarnew    -1)**2) + I4ebarnew    -1) - I4ebar\n",
    "        resp = I4ebarnew+eps + (dt/tau2*I4ebarnew*(I4ebarnew+eps-1))/((I4ebarnew+eps)*(1+2*k2*(I4ebarnew+eps-1)**2) + I4ebarnew+eps-1) - I4ebar\n",
    "        resm = I4ebarnew-eps + (dt/tau2*I4ebarnew*(I4ebarnew-eps-1))/((I4ebarnew-eps)*(1+2*k2*(I4ebarnew-eps-1)**2) + I4ebarnew-eps-1) - I4ebar\n",
    "        dres = (resp-resm)/2/eps #dres/dI4ebarnew\n",
    "        I4ebarnew = I4ebarnew - res/dres\n",
    "        iter+= 1\n",
    "        #print(res)\n",
    "    I4bar = np.tensordot(Cbar,np.outer(a0,a0)) #(9)\n",
    "    I4vnew = I4bar/I4ebarnew #(13)\n",
    "    \n",
    "    Svisani = 2*beta2*k1*(I4ebarnew-1)*np.exp(k2*(I4ebarnew-1)**2)*J**(-2/3)*I4ebarnew*(np.outer(a0,a0)/I4bar - 1/3*Cbarinv) # (21)\n",
    "    #=================================================================================================#\n",
    "    \n",
    "    Psi1bar = c # (14)\n",
    "    Psi4bar = k1*(I4bar-1)*(np.exp(k2*(I4bar-1)**2)-1) # (14)\n",
    "    Seqiso = 2*Psi1bar*J**(-2/3)*(np.eye(3)-1/3*I1*Cinv) # (18)\n",
    "    Seqani = 2*Psi4bar*J**(-2/3)*I4bar*(np.outer(a0,a0)/I4bar - 1/3*Cbarinv) # (20)\n",
    "    Spen = kappa*(J**2-J)*Cinv # (22)\n",
    "    \n",
    "    S = Seqiso + Svisiso + Seqani + Svisani + Spen # (15)\n",
    "    sigma = 1/J*np.dot(F,np.dot(S,F.transpose()))\n",
    "    \n",
    "    return sigma, Cvminvnew, I4vnew"
   ]
  },
  {
   "cell_type": "code",
   "execution_count": 156,
   "id": "3d41a466-6cef-4387-b7ef-137c3cb9d794",
   "metadata": {},
   "outputs": [],
   "source": [
    "# uniaxial tension \n",
    "# epsilon_x(t)\n",
    "# sigma_y, sigma_z\n",
    "nsteps = 200\n",
    "dt = 0.1\n",
    "F_vec = np.zeros((nsteps,3,3))\n",
    "Cvminv_vec = np.zeros((nsteps,3,3))\n",
    "sigma_vec = np.zeros((nsteps,3,3))\n",
    "epsilon_xv_vec = np.zeros((nsteps))\n",
    "lamb_e_vec = np.zeros((nsteps,3))\n",
    "# initial condition for viscous strains \n",
    "epsilon_v = np.zeros((6))\n",
    "Cvminv = np.eye(3)\n",
    "I4v = 1\n",
    "for i in range(nsteps):\n",
    "    if i<10:\n",
    "        epsilon_x = i/nsteps*2 + 1e-6\n",
    "    else:\n",
    "        epsilon_x = 0.1\n",
    "    \n",
    "    sigma_y = 0\n",
    "    sigma_z = 0\n",
    "    normres = 1\n",
    "    iter=0\n",
    "    itermax = 20\n",
    "    epsilon_y = 0\n",
    "    epsilon_z = 0\n",
    "    eta = 10\n",
    "    while normres>1e-6 and iter<itermax:\n",
    "        # guess for F\n",
    "        F = np.array([[1+epsilon_x, 0, 0], [0, 1+epsilon_y, 0], [0, 0, 1+epsilon_z]])\n",
    "        sigma, Cvminvnew, I4vnew = eval_liu(F, Cvminv, I4v, dt)\n",
    "        res = np.array([sigma[1,1]-sigma_y, sigma[2,2]-sigma_z])\n",
    "        \n",
    "        # calculate dres with NR \n",
    "        F_py = np.array([[1+epsilon_x, 0, 0], [0, 1+epsilon_y+1e-6, 0], [0, 0, 1+epsilon_z]])\n",
    "        sigma_py, aux, aux2 = eval_liu(F_py, Cvminv, I4v, dt)\n",
    "        F_pz = np.array([[1+epsilon_x, 0, 0], [0, 1+epsilon_y, 0], [0, 0, 1+epsilon_z+1e-6]])\n",
    "        sigma_pz, aux, aux2 = eval_liu(F_pz, Cvminv, I4v, dt)\n",
    "        dres = np.array([[(sigma_py[1,1]-sigma[1,1])/1e-6,(sigma_py[2,2]-sigma[2,2])/1e-6],\\\n",
    "                        [(sigma_pz[1,1]-sigma[1,1])/1e-6,(sigma_pz[2,2]-sigma[2,2])/1e-6]])\n",
    "        deps = np.linalg.solve(dres,-res)\n",
    "        epsilon_y += deps[0]\n",
    "        epsilon_z += deps[1]\n",
    "        normres = np.linalg.norm(res)\n",
    "        iter+=1 \n",
    "\n",
    "    # update the internal variable at end of iterations \n",
    "    Cvminv = Cvminvnew\n",
    "    I4v = I4vnew\n",
    "    F_vec[i] = F\n",
    "    sigma_vec[i] = sigma\n",
    "    Cvminv_vec[i] = Cvminv"
   ]
  },
  {
   "cell_type": "code",
   "execution_count": 157,
   "id": "1f6fce08-8ba1-492d-b8fa-5d142460b1d3",
   "metadata": {},
   "outputs": [
    {
     "data": {
      "text/plain": [
       "[<matplotlib.lines.Line2D at 0x7fafc16682b0>]"
      ]
     },
     "execution_count": 157,
     "metadata": {},
     "output_type": "execute_result"
    },
    {
     "data": {
      "image/png": "[encoded data removed]",
      "text/plain": [
       "<Figure size 432x288 with 1 Axes>"
      ]
     },
     "metadata": {
      "needs_background": "light"
     },
     "output_type": "display_data"
    }
   ],
   "source": [
    "plt.plot(sigma_vec[:,0,0])"
   ]
  },
  {
   "cell_type": "code",
   "execution_count": 168,
   "id": "d7aebb3c-a6c7-4b69-ba2b-1a583407210b",
   "metadata": {},
   "outputs": [],
   "source": [
    "# uniaxial tension in plane stress\n",
    "# epsilon_x(t)\n",
    "# sigma_y, sigma_z\n",
    "nsteps = 200\n",
    "dt = 0.1\n",
    "F_vec = np.zeros((nsteps,3,3))\n",
    "Cvminv_vec = np.zeros((nsteps,3,3))\n",
    "sigma_vec = np.zeros((nsteps,3,3))\n",
    "epsilon_xv_vec = np.zeros((nsteps))\n",
    "lamb_e_vec = np.zeros((nsteps,3))\n",
    "# initial condition for viscous strains \n",
    "epsilon_v = np.zeros((6))\n",
    "Cvminv = np.eye(3)\n",
    "I4v = 1\n",
    "for i in range(nsteps):\n",
    "    if i<10:\n",
    "        epsilon_x = i/nsteps*2 + 1e-6\n",
    "        epsilon_y = i/nsteps*2 + 1e-6\n",
    "    else:\n",
    "        epsilon_x = 0.1\n",
    "        epsilon_y = 0.1\n",
    "    \n",
    "    sigma_y = 0\n",
    "    sigma_z = 0\n",
    "    normres = 1\n",
    "    iter=0\n",
    "    itermax = 20\n",
    "    #epsilon_y = 0\n",
    "    epsilon_z = 0\n",
    "    eta = 10\n",
    "    while normres>1e-6 and iter<itermax:\n",
    "        # guess for F\n",
    "        F = np.array([[1+epsilon_x, 0, 0], [0, 1+epsilon_y, 0], [0, 0, 1+epsilon_z]])\n",
    "        sigma, Cvminvnew, I4vnew = eval_liu(F, Cvminv, I4v, dt)\n",
    "        res = sigma[2,2]-sigma_z\n",
    "        \n",
    "        # calculate dres with NR \n",
    "        F_pz = np.array([[1+epsilon_x, 0, 0], [0, 1+epsilon_y, 0], [0, 0, 1+epsilon_z+1e-6]])\n",
    "        sigma_pz, aux, aux2 = eval_liu(F_pz, Cvminv, I4v, dt)\n",
    "        dres = (sigma_pz[2,2]-sigma[2,2])/1e-6\n",
    "        \n",
    "        deps = -res/dres\n",
    "        epsilon_z += deps\n",
    "        normres = np.linalg.norm(res)\n",
    "        iter+=1 \n",
    "\n",
    "    # update the internal variable at end of iterations \n",
    "    Cvminv = Cvminvnew\n",
    "    I4v = I4vnew\n",
    "    F_vec[i] = F\n",
    "    sigma_vec[i] = sigma\n",
    "    Cvminv_vec[i] = Cvminv"
   ]
  },
  {
   "cell_type": "code",
   "execution_count": 175,
   "id": "76dec301-8526-49e8-bebe-7b792bd4412a",
   "metadata": {},
   "outputs": [
    {
     "data": {
      "image/png": "[encoded data removed]",
      "text/plain": [
       "<Figure size 432x288 with 1 Axes>"
      ]
     },
     "metadata": {
      "needs_background": "light"
     },
     "output_type": "display_data"
    }
   ],
   "source": [
    "plt.plot(sigma_vec[:,0,0],'o-')\n",
    "plt.plot(sigma_vec[:,1,1],'s-')\n",
    "plt.ylim(0,2)\n",
    "plt.title('Fig. 4')\n",
    "pass"
   ]
  },
  {
   "cell_type": "code",
   "execution_count": null,
   "id": "46433983-a16d-431c-be60-55418559177d",
   "metadata": {},
   "outputs": [],
   "source": []
  }
 ],
 "metadata": {
  "kernelspec": {
   "display_name": "Python 3",
   "language": "python",
   "name": "python3"
  },
  "language_info": {
   "codemirror_mode": {
    "name": "ipython",
    "version": 3
   },
   "file_extension": ".py",
   "mimetype": "text/x-python",
   "name": "python",
   "nbconvert_exporter": "python",
   "pygments_lexer": "ipython3",
   "version": "3.8.5"
  }
 },
 "nbformat": 4,
 "nbformat_minor": 5
}
