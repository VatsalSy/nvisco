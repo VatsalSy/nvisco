{
 "cells": [
  {
   "cell_type": "code",
   "execution_count": 1,
   "metadata": {},
   "outputs": [
    {
     "name": "stderr",
     "output_type": "stream",
     "text": [
      "/Users/vt/miniforge3/envs/jax/lib/python3.10/site-packages/jax/_src/lib/__init__.py:33: UserWarning: JAX on Mac ARM machines is experimental and minimally tested. Please see https://github.com/google/jax/issues/5501 in the event of problems.\n",
      "  warnings.warn(\"JAX on Mac ARM machines is experimental and minimally tested. \"\n",
      "/Users/vt/miniforge3/envs/jax/lib/python3.10/site-packages/jax/experimental/optimizers.py:28: FutureWarning: jax.experimental.optimizers is deprecated, import jax.example_libraries.optimizers instead\n",
      "  warnings.warn('jax.experimental.optimizers is deprecated, '\n",
      "WARNING:absl:No GPU/TPU found, falling back to CPU. (Set TF_CPP_MIN_LOG_LEVEL=0 and rerun for more info.)\n"
     ]
    }
   ],
   "source": [
    "import jax.numpy as np\n",
    "import numpy as onp\n",
    "from NODE_fns import NODE as NODE\n",
    "from jax import grad, random, jit, vmap#, partial\n",
    "from functools import partial\n",
    "from jax.experimental import optimizers\n",
    "import pickle\n",
    "import time\n",
    "import matplotlib.pyplot as plt\n",
    "key = random.PRNGKey(0)"
   ]
  },
  {
   "cell_type": "code",
   "execution_count": 2,
   "metadata": {},
   "outputs": [],
   "source": [
    "with open('saved/params_jax.npy', 'rb') as f:\n",
    "    params = pickle.load(f)\n",
    "with open('saved/norm_w_jax.npy', 'rb') as f:\n",
    "    inp_mean, inp_stdv, out_mean, out_stdv = pickle.load(f)"
   ]
  },
  {
   "cell_type": "code",
   "execution_count": 3,
   "metadata": {},
   "outputs": [],
   "source": [
    "def dphidtaui_gov(tau_i, etad = 1360, etav = 175000): \n",
    "    tau1, tau2, tau3 = tau_i\n",
    "    trtau = tau1 + tau2 + tau3\n",
    "    dphidtau1 = 2*(1/3/etad + 1/9/etav)*trtau - 1/etad*(tau2+tau3)\n",
    "    dphidtau2 = 2*(1/3/etad + 1/9/etav)*trtau - 1/etad*(tau1+tau3)\n",
    "    dphidtau3 = 2*(1/3/etad + 1/9/etav)*trtau - 1/etad*(tau1+tau2)\n",
    "    return [dphidtau1, dphidtau2, dphidtau3]\n",
    "    \n",
    "def dPhi(params, tau1, tau2, tau3):\n",
    "    NODE1_params, NODE2_params, NODE3_params, NODE4_params, NODE5_params = params\n",
    "\n",
    "    tau1 = (tau1 - inp_mean)/inp_stdv\n",
    "    tau2 = (tau2 - inp_mean)/inp_stdv\n",
    "    tau3 = (tau3 - inp_mean)/inp_stdv\n",
    "\n",
    "\n",
    "    N1 = NODE(tau1, NODE1_params)\n",
    "    N2 = NODE(tau1 + tau2, NODE2_params)\n",
    "    N3 = NODE(tau1 + tau2 + tau3, NODE3_params)\n",
    "    N4 = NODE(tau1**2 + tau2**2 + tau3**2 + 2*tau1*tau2 + 2*tau1*tau3 + 2*tau2*tau3, NODE4_params)\n",
    "    N5 = NODE(tau1**2 + tau2**2 + tau3**2 -   tau1*tau2 -   tau1*tau3 -   tau2*tau3, NODE5_params)\n",
    "\n",
    "    Phi1 = N1 + N2 + N3 + 2*N4*(tau1 + tau2 + tau3) + N5*(2*tau1 - tau2 - tau3) #dphi/dtau1\n",
    "    Phi2 =      N2 + N3 + 2*N4*(tau1 + tau2 + tau3) + N5*(2*tau2 - tau1 - tau3)\n",
    "    Phi3 =           N3 + 2*N4*(tau1 + tau2 + tau3) + N5*(2*tau3 - tau1 - tau2)\n",
    "\n",
    "    Phi1 = Phi1*out_stdv + out_mean\n",
    "    Phi2 = Phi2*out_stdv + out_mean\n",
    "    Phi3 = Phi3*out_stdv + out_mean\n",
    "    return Phi1, Phi2, Phi3\n",
    "dPhi_vmap = vmap(dPhi, in_axes=(None, 0, 0, 0), out_axes = (0, 0, 0))"
   ]
  },
  {
   "cell_type": "code",
   "execution_count": 6,
   "metadata": {},
   "outputs": [],
   "source": [
    "n = 1000\n",
    "taui = onp.random.normal(size=[n,3])*10000\n",
    "taui = -onp.sort(-taui) #Sort taui in descending order\n",
    "dphidtaui = onp.zeros_like(taui)\n",
    "for i in range(n):\n",
    "    dphidtaui[i] = dphidtaui_gov(taui[i])\n",
    "\n",
    "dphidtaui = dphidtaui.transpose()\n",
    "dphidtaui_pr = dPhi_vmap(params, taui[:,0], taui[:,1], taui[:,2])\n",
    "dphidtaui_pr = onp.array(dphidtaui_pr)"
   ]
  },
  {
   "cell_type": "code",
   "execution_count": 7,
   "metadata": {},
   "outputs": [
    {
     "data": {
      "image/png": "[encoded data removed]",
      "text/plain": [
       "<Figure size 1152x288 with 3 Axes>"
      ]
     },
     "metadata": {
      "needs_background": "light"
     },
     "output_type": "display_data"
    }
   ],
   "source": [
    "fig,ax = plt.subplots(1,3, figsize=[16,4])\n",
    "names = [1,2,3]\n",
    "for i in range(3):\n",
    "    mx = onp.max(dphidtaui[i])\n",
    "    mn = onp.min(dphidtaui[i])\n",
    "    ax[i].plot([mn, mx], [mn, mx], 'r')\n",
    "    ax[i].plot(dphidtaui[i], dphidtaui_pr[i], 'k.')\n",
    "    ax[i].set(title='$\\\\partial \\\\Phi / \\\\partial \\\\tau_{{ {s} }}$'.format(s = names[i]))\n",
    "    # ax[i].set(xlim=[mn, mx], ylim=[mn, mx])"
   ]
  },
  {
   "cell_type": "code",
   "execution_count": null,
   "metadata": {},
   "outputs": [],
   "source": []
  }
 ],
 "metadata": {
  "interpreter": {
   "hash": "920e7a8945330110f9e03acbda53cbdd3d881ab4a4172d15e426a9c275db3432"
  },
  "kernelspec": {
   "display_name": "Intel",
   "language": "python",
   "name": "python3"
  },
  "language_info": {
   "codemirror_mode": {
    "name": "ipython",
    "version": 3
   },
   "file_extension": ".py",
   "mimetype": "text/x-python",
   "name": "python",
   "nbconvert_exporter": "python",
   "pygments_lexer": "ipython3",
   "version": "3.10.4"
  },
  "orig_nbformat": 4
 },
 "nbformat": 4,
 "nbformat_minor": 2
}
