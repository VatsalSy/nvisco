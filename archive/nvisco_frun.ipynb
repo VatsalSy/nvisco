{
 "cells": [
  {
   "cell_type": "code",
   "execution_count": 1,
   "id": "0ea96e0e-221e-4815-af19-29a56d5bccf7",
   "metadata": {},
   "outputs": [
    {
     "name": "stderr",
     "output_type": "stream",
     "text": [
      "/Users/vt/miniforge3/envs/jax/lib/python3.10/site-packages/jax/_src/lib/__init__.py:33: UserWarning: JAX on Mac ARM machines is experimental and minimally tested. Please see https://github.com/google/jax/issues/5501 in the event of problems.\n",
      "  warnings.warn(\"JAX on Mac ARM machines is experimental and minimally tested. \"\n",
      "WARNING:absl:No GPU/TPU found, falling back to CPU. (Set TF_CPP_MIN_LOG_LEVEL=0 and rerun for more info.)\n"
     ]
    }
   ],
   "source": [
    "import jax.numpy as np\n",
    "import numpy as onp\n",
    "import matplotlib.pyplot as plt\n",
    "import matplotlib\n",
    "font = {'size'   : 16}\n",
    "matplotlib.rc('font', **font)\n",
    "from NODE_fns import NODE\n",
    "from jax import grad, random, jit, jacobian, jacfwd\n",
    "from functools import partial\n",
    "import jax.example_libraries.optimizers as optimizers\n",
    "from jax.lax import while_loop, fori_loop, scan\n",
    "from jax.config import config\n",
    "#config.update('jax_disable_jit', False)\n",
    "config.update(\"jax_enable_x64\", True)\n",
    "import pickle\n",
    "key = random.PRNGKey(0)"
   ]
  },
  {
   "cell_type": "code",
   "execution_count": 2,
   "id": "db469a6a-8cc7-4722-8085-75a3947f496a",
   "metadata": {},
   "outputs": [],
   "source": [
    "with open('saved/params_jax.npy', 'rb') as f:\n",
    "    params = pickle.load(f)\n",
    "with open('saved/norm_w_jax.npy', 'rb') as f:\n",
    "    inp_mean, inp_stdv, out_mean, out_stdv = pickle.load(f)"
   ]
  },
  {
   "cell_type": "code",
   "execution_count": 3,
   "id": "b8a271ed-7700-44ff-b633-3fc583d69a04",
   "metadata": {},
   "outputs": [],
   "source": [
    "def dPhi(taui):\n",
    "    NODE1_params, NODE2_params, NODE3_params, NODE4_params, NODE5_params = params\n",
    "    \n",
    "    tau1 = (taui[0] - inp_mean)/inp_stdv\n",
    "    tau2 = (taui[1] - inp_mean)/inp_stdv\n",
    "    tau3 = (taui[2] - inp_mean)/inp_stdv\n",
    "\n",
    "    N1 = NODE(tau1, NODE1_params)\n",
    "    N2 = NODE(tau1 + tau2, NODE2_params)\n",
    "    N3 = NODE(tau1 + tau2 + tau3, NODE3_params)\n",
    "    N4 = NODE(tau1**2 + tau2**2 + tau3**2 + 2*tau1*tau2 + 2*tau1*tau3 + 2*tau2*tau3, NODE4_params)\n",
    "    N5 = NODE(tau1**2 + tau2**2 + tau3**2 -   tau1*tau2 -   tau1*tau3 -   tau2*tau3, NODE5_params)\n",
    "\n",
    "    Phi1 = N1 + N2 + N3 + 2*N4*(tau1 + tau2 + tau3) + N5*(2*tau1 - tau2 - tau3) #dphi/dtau1\n",
    "    Phi2 =      N2 + N3 + 2*N4*(tau1 + tau2 + tau3) + N5*(2*tau2 - tau1 - tau3)\n",
    "    Phi3 =           N3 + 2*N4*(tau1 + tau2 + tau3) + N5*(2*tau3 - tau1 - tau2)\n",
    "\n",
    "    Phi1 = Phi1*out_stdv + out_mean\n",
    "    Phi2 = Phi2*out_stdv + out_mean\n",
    "    Phi3 = Phi3*out_stdv + out_mean\n",
    "    return [Phi1, Phi2, Phi3]\n",
    "\n",
    "d2Phi = jacobian(dPhi)"
   ]
  },
  {
   "cell_type": "code",
   "execution_count": 4,
   "id": "52de17a6",
   "metadata": {},
   "outputs": [],
   "source": [
    "# Material parameters:\n",
    "mu_m = np.array([51.4, -18, 3.86])\n",
    "alpha_m = np.array([1.8, -2, 7])\n",
    "K_m = 10000\n",
    "tau = 17.5\n",
    "shear_mod = 1/2*(mu_m[0]*alpha_m[0] + mu_m[1]*alpha_m[1] + mu_m[2]*alpha_m[2])\n",
    "eta_D = tau*shear_mod\n",
    "eta_V = tau*K_m\n",
    "mu = 77.77 #=shear_mod\n",
    "K = 10000"
   ]
  },
  {
   "cell_type": "code",
   "execution_count": 5,
   "id": "6861dd64-3717-4798-81b6-02fe74eff1ec",
   "metadata": {},
   "outputs": [],
   "source": [
    "def evalGovindjee(dt, F, C_i_inv):\n",
    "    #Preprocessing\n",
    "    be_trial = np.dot(F, np.dot(C_i_inv, F.transpose()))\n",
    "    lamb_e_trial, n_A = np.linalg.eigh(be_trial)\n",
    "    n_A = np.real(n_A)\n",
    "    lamb_e_trial = np.sqrt(np.real(lamb_e_trial))\n",
    "    eps_e_trial = np.log(lamb_e_trial)\n",
    "    eps_e = eps_e_trial #Initial guess for eps_e\n",
    "\n",
    "    def iterate(inputs):\n",
    "        normres, itr, eps_e, eps_e_trial, dt = inputs\n",
    "        \n",
    "        lamb_e = np.exp(eps_e)\n",
    "        Je = lamb_e[0]*lamb_e[1]*lamb_e[2]\n",
    "        bbar_e = Je**(-2/3)*lamb_e**2 #(54)\n",
    "\n",
    "        b1 = bbar_e[0]\n",
    "        b2 = bbar_e[1]\n",
    "        b3 = bbar_e[2]\n",
    "\n",
    "        #Calculate K_AB\n",
    "        ddev11 = 0\n",
    "        ddev12 = 0\n",
    "        ddev13 = 0\n",
    "        ddev22 = 0\n",
    "        ddev23 = 0\n",
    "        ddev33 = 0\n",
    "\n",
    "        for r in range(3):\n",
    "            e = alpha_m[r]/2\n",
    "            ddev11 = ddev11 + mu_m[r]*(2*e)*( 4/9*b1**e + 1/9*(b2**e + b3**e)) #(B12)\n",
    "            ddev22 = ddev22 + mu_m[r]*(2*e)*( 4/9*b2**e + 1/9*(b1**e + b3**e))\n",
    "            ddev33 = ddev33 + mu_m[r]*(2*e)*( 4/9*b3**e + 1/9*(b1**e + b2**e))\n",
    "\n",
    "            ddev12 = ddev12 + mu_m[r]*(2*e)*(-2/9*(b1**e + b2**e) + 1/9*b3**e) #(B13)\n",
    "            ddev13 = ddev13 + mu_m[r]*(2*e)*(-2/9*(b1**e + b3**e) + 1/9*b2**e)\n",
    "            ddev23 = ddev23 + mu_m[r]*(2*e)*(-2/9*(b2**e + b3**e) + 1/9*b1**e)\n",
    "        ddev = np.array([[ddev11, ddev12, ddev13],[ddev12, ddev22, ddev23], [ddev13, ddev23, ddev33]])\n",
    "\n",
    "        devtau1 = 0\n",
    "        devtau2 = 0\n",
    "        devtau3 = 0\n",
    "        for r in range(3):\n",
    "            e = alpha_m[r]/2\n",
    "            devtau1 = devtau1 + mu_m[r]*(2/3*b1**e - 1/3*(b2**e + b3**e)) #(B8)\n",
    "            devtau2 = devtau2 + mu_m[r]*(2/3*b2**e - 1/3*(b1**e + b3**e))\n",
    "            devtau3 = devtau3 + mu_m[r]*(2/3*b3**e - 1/3*(b1**e + b2**e))\n",
    "        devtau = np.array([devtau1, devtau2, devtau3])\n",
    "\n",
    "        tau_NEQI = 3*K_m/2*(Je**2-1) #(B8)\n",
    "        tau_A = devtau + 1/3*tau_NEQI #(B8)\n",
    "        order = np.argsort(-tau_A)\n",
    "\n",
    "        d2phid2tau = np.array(d2Phi(tau_A[order])) #Get the 2nd derivatives of Phi with NODEs\n",
    "\n",
    "        dtaui_depsej = ddev + K_m*Je**2\n",
    "        dtaui_depsej = dtaui_depsej[order] #-tau_A.argsort sorts descending order which is what I need.\n",
    "\n",
    "        K_AB = np.eye(3) + dt*np.dot(d2phid2tau, dtaui_depsej)\n",
    "        K_AB_inv = np.linalg.inv(K_AB)\n",
    "        \n",
    "        res = eps_e + dt*(1/2/eta_D*devtau + 1/9/eta_V*tau_NEQI*np.ones(3))-eps_e_trial #(60)\n",
    "        deps_e = np.dot(K_AB_inv, -res)\n",
    "        eps_e = eps_e + deps_e\n",
    "        normres = np.linalg.norm(res)\n",
    "        itr+= 1\n",
    "        return [normres, itr, eps_e, eps_e_trial, dt]\n",
    "    \n",
    "    #Neuton Raphson\n",
    "    normres = 1.0\n",
    "    itr = 0\n",
    "    itermax = 20\n",
    "    cond_fun = lambda x: np.sign(x[0]-1.e-6) + np.sign(itermax - x[1]) > 0\n",
    "    inps = while_loop(cond_fun, iterate, [normres,itr, eps_e, eps_e_trial, dt])\n",
    "    normres, itr, eps_e, eps_e_trial, dt = inps\n",
    "    # if normres>1.e-6:\n",
    "    #     print('No local convergence')\n",
    "    #     print(tau1, tau2, tau3)\n",
    "    #     print(K_AB2)\n",
    "    #     print(K_AB)\n",
    "    # Now that the iterations have converged, calculate stress\n",
    "    lamb_e = np.exp(eps_e)\n",
    "    Je = lamb_e[0]*lamb_e[1]*lamb_e[2]\n",
    "    bbar_e = Je**(-2/3)*lamb_e**2 #(54)\n",
    "\n",
    "    b1 = bbar_e[0]\n",
    "    b2 = bbar_e[1]\n",
    "    b3 = bbar_e[2]\n",
    "\n",
    "    devtau1 = 0\n",
    "    devtau2 = 0\n",
    "    devtau3 = 0\n",
    "    for r in range(3):\n",
    "        e = alpha_m[r]/2\n",
    "        devtau1 = devtau1 + mu_m[r]*(2/3*b1**e - 1/3*(b2**e + b3**e)) #(B8)\n",
    "        devtau2 = devtau2 + mu_m[r]*(2/3*b2**e - 1/3*(b1**e + b3**e))\n",
    "        devtau3 = devtau3 + mu_m[r]*(2/3*b3**e - 1/3*(b1**e + b2**e))\n",
    "\n",
    "    devtau = np.array([devtau1, devtau2, devtau3])\n",
    "\n",
    "    tau_NEQI = 3*K_m/2*(Je**2-1) #(B8)\n",
    "    tau_A = devtau + 1/3*tau_NEQI #(B8)\n",
    "    tau_NEQ = tau_A[0]*np.outer(n_A[:,0], n_A[:,0]) + tau_A[1]*np.outer(n_A[:,1], n_A[:,1]) + tau_A[2]*np.outer(n_A[:,2], n_A[:,2]) #(58)\n",
    "    b = np.dot(F,F.transpose())\n",
    "    J = np.linalg.det(F)\n",
    "    sigma_EQ = mu/J*(b-np.eye(3)) + 2*K*(J-1)*np.eye(3) #neo Hookean material\n",
    "    sigma = 1/Je*tau_NEQ + sigma_EQ #(7)\n",
    "    \n",
    "    #Post processing\n",
    "    be = np.einsum('i,ji,ki->jk', lamb_e**2, n_A, n_A)\n",
    "    F_inv = np.linalg.inv(F)\n",
    "    C_i_inv_new = np.dot(F_inv, np.dot(be, F_inv.transpose()))\n",
    "    return sigma, C_i_inv_new, lamb_e\n",
    "\n",
    "jitGovindjee = jit(evalGovindjee)"
   ]
  },
  {
   "cell_type": "markdown",
   "id": "c7236627-9857-4b7d-8f7d-5a9fae48a2be",
   "metadata": {},
   "source": [
    "## 1 forward run"
   ]
  },
  {
   "cell_type": "code",
   "execution_count": 6,
   "id": "c61a0071",
   "metadata": {},
   "outputs": [],
   "source": [
    "def gov_uniaxial():\n",
    "    # Uniaxial tension in plane stress\n",
    "    nsteps = 100\n",
    "\n",
    "    sigma_x_vec = onp.zeros(nsteps)\n",
    "    sigma_y_vec = onp.zeros(nsteps)\n",
    "    sigma_z_vec = onp.zeros(nsteps)\n",
    "    time    = onp.zeros(nsteps)\n",
    "    dt      = 1.0\n",
    "\n",
    "    # initial condition for viscous strains \n",
    "    C_i_inv   = onp.eye(3)\n",
    "    for i in range(nsteps):\n",
    "        if i<50:\n",
    "            eps_x = i/nsteps+1e-6\n",
    "        else:\n",
    "            eps_x = 0.5\n",
    "        sigma_y = 0.\n",
    "        sigma_z = 0.\n",
    "        normres = 1.0\n",
    "        itr = 0\n",
    "        itermax = 20\n",
    "        eps_y = 0.0\n",
    "        eps_z = 0.0\n",
    "        while normres>1.e-6 and itr < itermax:\n",
    "            lmx, lmy, lmz = 1+eps_x, 1+eps_y, 1+eps_z \n",
    "            F    = onp.array([[lmx,   0,    0], \n",
    "                              [0,    lmy,   0], \n",
    "                              [0,    0,   lmz]])\n",
    "            sigma, C_i_inv_new, lamb_e = jitGovindjee(dt, F, C_i_inv)\n",
    "            res = np.array([sigma[1,1]-sigma_y, sigma[2,2]-sigma_z])\n",
    "\n",
    "            # calculate dres with NR \n",
    "            F_py = onp.array([[lmx,   0,    0], \n",
    "                              [0, lmy+1e-6, 0], \n",
    "                              [0,     0,  lmz]])\n",
    "            F_pz = onp.array([[lmx,   0,    0], \n",
    "                              [0,    lmy  , 0], \n",
    "                              [0, 0, lmz+1e-6]])\n",
    "            sigma_py, _, _ = jitGovindjee(dt, F_py, C_i_inv)\n",
    "            sigma_pz, _, _ = jitGovindjee(dt, F_pz, C_i_inv)\n",
    "            \n",
    "            \n",
    "            dres = onp.array([[(sigma_py[1,1]-sigma[1,1])/1e-6,(sigma_py[2,2]-sigma[2,2])/1e-6],\\\n",
    "                             [(sigma_pz[1,1]-sigma[1,1])/1e-6,(sigma_pz[2,2]-sigma[2,2])/1e-6]])\n",
    "            \n",
    "            deps = onp.linalg.solve(dres,-res)\n",
    "            eps_y += deps[0]\n",
    "            eps_z += deps[1]\n",
    "            normres = onp.linalg.norm(res)\n",
    "            itr+=1 \n",
    "        lmx, lmy, lmz = 1+eps_x, 1+eps_y, 1+eps_z\n",
    "        F = onp.array([[lmx,   0,    0], \n",
    "                       [0,    lmy,   0], \n",
    "                       [0,    0,   lmz]])\n",
    "        sigma, C_i_inv_new, lamb_e = jitGovindjee(dt, F, C_i_inv)\n",
    "        C_i_inv = C_i_inv_new\n",
    "        sigma_x_vec[i] = sigma[0,0]\n",
    "        sigma_y_vec[i] = sigma[1,1]\n",
    "        sigma_z_vec[i] = sigma[2,2]\n",
    "        time[i] = time[i-1] + dt\n",
    "    return sigma_x_vec, sigma_y_vec, sigma_z_vec"
   ]
  },
  {
   "cell_type": "code",
   "execution_count": null,
   "id": "9d420b84",
   "metadata": {},
   "outputs": [],
   "source": [
    "sigma_x_vec, sigma_y_vec, sigma_z_vec = gov_uniaxial()"
   ]
  },
  {
   "cell_type": "code",
   "execution_count": 10,
   "id": "6f96078d",
   "metadata": {},
   "outputs": [
    {
     "data": {
      "text/plain": [
       "[<matplotlib.lines.Line2D at 0x168e04910>]"
      ]
     },
     "execution_count": 10,
     "metadata": {},
     "output_type": "execute_result"
    },
    {
     "data": {
      "image/png": "[encoded data removed]",
      "text/plain": [
       "<Figure size 432x288 with 1 Axes>"
      ]
     },
     "metadata": {
      "needs_background": "light"
     },
     "output_type": "display_data"
    }
   ],
   "source": [
    "plt.plot(sigma_x_vec)"
   ]
  },
  {
   "cell_type": "markdown",
   "id": "b5cd1650",
   "metadata": {},
   "source": [
    "## Autodiff for residual"
   ]
  },
  {
   "cell_type": "code",
   "execution_count": 32,
   "id": "b1a295b3",
   "metadata": {},
   "outputs": [],
   "source": [
    "def residual(eps_x, eps_y, eps_z, C_i_inv, dt, sigma_y, sigma_z):\n",
    "    F = np.array([[1+eps_x, 0, 0], [0, 1+eps_y, 0], [0, 0, 1+eps_z]])\n",
    "    sigma, _, _ = evalGovindjee(dt, F, C_i_inv)\n",
    "    res = np.array([sigma[1, 1]-sigma_y, sigma[2, 2]-sigma_z])\n",
    "    return res\n",
    "\n",
    "\n",
    "dresidual = jacfwd(residual, argnums=(1, 2))\n",
    "\n",
    "\n",
    "def gov_uniaxial2():\n",
    "    # Uniaxial tension in plane stress\n",
    "    nsteps = 100\n",
    "\n",
    "    sigma_x_vec = onp.zeros(nsteps)\n",
    "    sigma_y_vec = onp.zeros(nsteps)\n",
    "    sigma_z_vec = onp.zeros(nsteps)\n",
    "    time = onp.zeros(nsteps)\n",
    "    dt = 1.0\n",
    "\n",
    "    # initial condition for viscous strains\n",
    "    C_i_inv = onp.eye(3)\n",
    "    for i in range(nsteps):\n",
    "        if i < 50:\n",
    "            eps_x = i/nsteps+1e-6\n",
    "        else:\n",
    "            eps_x = 0.5\n",
    "        sigma_y = 0.\n",
    "        sigma_z = 0.\n",
    "        normres = 1.0\n",
    "        itr = 0\n",
    "        itermax = 20\n",
    "        eps_y = 0.0\n",
    "        eps_z = 0.0\n",
    "        while normres > 1.e-6 and itr < itermax:\n",
    "            lmx, lmy, lmz = 1+eps_x, 1+eps_y, 1+eps_z \n",
    "            F    = onp.array([[lmx,   0,    0], \n",
    "                              [0,    lmy,   0], \n",
    "                              [0,    0,   lmz]])\n",
    "            sigma, C_i_inv_new, lamb_e = evalGovindjee(dt, F, C_i_inv)\n",
    "            res =  onp.array([sigma[1, 1]-sigma_y, sigma[2, 2]-sigma_z])\n",
    "            res2 = residual(eps_x, eps_y, eps_z, C_i_inv, dt, sigma_y, sigma_z)\n",
    "\n",
    "            # calculate dres with NR\n",
    "            F_py = onp.array([[lmx,   0,    0], \n",
    "                              [0, lmy+1e-6, 0], \n",
    "                              [0,     0,  lmz]])\n",
    "            F_pz = onp.array([[lmx,   0,    0], \n",
    "                              [0,    lmy  , 0], \n",
    "                              [0, 0, lmz+1e-6]])\n",
    "            sigma_py, _, _ = evalGovindjee(dt, F_py, C_i_inv)\n",
    "            sigma_pz, _, _ = evalGovindjee(dt, F_pz, C_i_inv)\n",
    "\n",
    "            dres = onp.array([[(sigma_py[1, 1]-sigma[1, 1])/1e-6, (sigma_py[2, 2]-sigma[2, 2])/1e-6],\n",
    "                              [(sigma_pz[1, 1]-sigma[1, 1])/1e-6, (sigma_pz[2, 2]-sigma[2, 2])/1e-6]])\n",
    "            dres2 = dresidual(eps_x, eps_y, eps_z, C_i_inv, dt, sigma_y, sigma_z)\n",
    "\n",
    "            print(dres, dres2)\n",
    "            deps = onp.linalg.solve(dres, -res)\n",
    "            eps_y += deps[0]\n",
    "            eps_z += deps[1]\n",
    "            normres = onp.linalg.norm(res)\n",
    "            itr += 1\n",
    "        lmx, lmy, lmz = 1+eps_x, 1+eps_y, 1+eps_z\n",
    "        F = onp.array([[lmx,   0,    0], \n",
    "                       [0,    lmy,   0], \n",
    "                       [0,    0,   lmz]])\n",
    "        sigma, C_i_inv_new, lamb_e = evalGovindjee(dt, F, C_i_inv)\n",
    "        C_i_inv = C_i_inv_new\n",
    "        sigma_x_vec[i] = sigma[0, 0]\n",
    "        sigma_y_vec[i] = sigma[1, 1]\n",
    "        sigma_z_vec[i] = sigma[2, 2]\n",
    "        time[i] = time[i-1] + dt\n",
    "    return sigma_x_vec, sigma_y_vec, sigma_z_vec\n"
   ]
  },
  {
   "cell_type": "code",
   "execution_count": null,
   "id": "6abcda8b",
   "metadata": {},
   "outputs": [],
   "source": [
    "sigma_x_vec, sigma_y_vec, sigma_z_vec = gov_uniaxial2()"
   ]
  },
  {
   "cell_type": "code",
   "execution_count": null,
   "id": "ecd0f750",
   "metadata": {},
   "outputs": [],
   "source": [
    "plt.plot(sigma_x_vec)"
   ]
  },
  {
   "cell_type": "markdown",
   "id": "8390d384",
   "metadata": {},
   "source": [
    "## Biaxial"
   ]
  },
  {
   "cell_type": "code",
   "execution_count": 60,
   "id": "ffa3a3c2",
   "metadata": {},
   "outputs": [],
   "source": [
    "with open('training_data/gov_data.npy','rb') as f:\n",
    "    time, eps_x, eps_y, sigma_x, sigma_y = np.load(f)\n",
    "time = time[:200]"
   ]
  },
  {
   "cell_type": "code",
   "execution_count": 51,
   "id": "6afd1f70",
   "metadata": {},
   "outputs": [],
   "source": [
    "def gov_biaxial(eps_x, eps_y, dt=1.0):\n",
    "    nsteps = eps_x.shape[0]\n",
    "\n",
    "    sigma_x_vec = onp.zeros(nsteps)\n",
    "    sigma_y_vec = onp.zeros(nsteps)\n",
    "    sigma_z_vec = onp.zeros(nsteps)\n",
    "    time    = onp.zeros(nsteps)\n",
    "\n",
    "    # initial condition for viscous strains \n",
    "    C_i_inv   = onp.eye(3)\n",
    "    for i in range(nsteps):\n",
    "        sigma_z = 0.\n",
    "        normres = 1.0\n",
    "        itr = 0\n",
    "        itermax = 20\n",
    "        eps_z = 0.0\n",
    "        while normres>1.e-6 and itr < itermax:\n",
    "            lmx, lmy, lmz = 1+eps_x[i], 1+eps_y[i], 1+eps_z \n",
    "            F    = onp.array([[lmx,   0,    0], \n",
    "                              [0,    lmy,   0], \n",
    "                              [0,    0,   lmz]])\n",
    "            sigma, C_i_inv_new, lamb_e = evalGovindjee(dt, F, C_i_inv)\n",
    "            res  = sigma[2,2]-sigma_z\n",
    "\n",
    "            # calculate dres with NR \n",
    "            F_pz = onp.array([[lmx,   0,    0], \n",
    "                              [0,    lmy,   0], \n",
    "                              [0,  0,lmz+1e-6]])\n",
    "            sigma_pz, _, _ = evalGovindjee(dt, F_pz, C_i_inv)\n",
    "            \n",
    "            dres = (sigma_pz[2,2]-sigma[2,2])/1e-6\n",
    "            \n",
    "            deps = -res/dres\n",
    "            eps_z += deps\n",
    "            normres = onp.linalg.norm(res)\n",
    "            itr+=1 \n",
    "        lmx, lmy, lmz = 1+eps_x[i], 1+eps_y[i], 1+eps_z\n",
    "        F = onp.array([[lmx,   0,    0], \n",
    "                       [0,    lmy,   0], \n",
    "                       [0,    0,   lmz]])\n",
    "        sigma, C_i_inv_new, lamb_e = evalGovindjee(dt, F, C_i_inv)\n",
    "        C_i_inv = C_i_inv_new\n",
    "        sigma_x_vec[i] = sigma[0,0]\n",
    "        sigma_y_vec[i] = sigma[1,1]\n",
    "        sigma_z_vec[i] = sigma[2,2]\n",
    "        time[i] = time[i-1] + dt\n",
    "    return sigma_x_vec, sigma_y_vec, sigma_z_vec"
   ]
  },
  {
   "cell_type": "code",
   "execution_count": 52,
   "id": "d198d61a",
   "metadata": {},
   "outputs": [],
   "source": [
    "sigma_x_vec, sigma_y_vec, sigma_z_vec = gov_biaxial(eps_x[:200], eps_y[:200]) "
   ]
  },
  {
   "cell_type": "code",
   "execution_count": 62,
   "id": "97d330e3",
   "metadata": {},
   "outputs": [
    {
     "data": {
      "text/plain": [
       "[<matplotlib.lines.Line2D at 0x15929dc30>]"
      ]
     },
     "execution_count": 62,
     "metadata": {},
     "output_type": "execute_result"
    },
    {
     "data": {
      "image/png": "[encoded data removed]",
      "text/plain": [
       "<Figure size 432x288 with 1 Axes>"
      ]
     },
     "metadata": {
      "needs_background": "light"
     },
     "output_type": "display_data"
    }
   ],
   "source": [
    "fig, ax = plt.subplots()\n",
    "\n",
    "ax.plot(time[:200], sigma_x[:200], '.')\n",
    "ax.plot(time[:200], sigma_x_vec)"
   ]
  },
  {
   "cell_type": "markdown",
   "id": "fd83620f-190e-4503-ac6c-01f1d3c91c14",
   "metadata": {},
   "source": [
    "## Outer loop in jax"
   ]
  },
  {
   "cell_type": "code",
   "execution_count": 21,
   "id": "1a753c96",
   "metadata": {},
   "outputs": [],
   "source": [
    "def outerloop(inputs):\n",
    "    normres, itr, eps_x, eps_y, eps_z, sigma_y, sigma_z, C_i_inv, dt = inputs\n",
    "    lmx, lmy, lmz = 1+eps_x, 1+eps_y, 1+eps_z \n",
    "    F    = np.array([[lmx,   0,    0], \n",
    "                     [0,    lmy,   0], \n",
    "                     [0,    0,   lmz]])\n",
    "    sigma, C_i_inv_new, lamb_e = evalGovindjee(dt, F, C_i_inv)\n",
    "    res = np.array([sigma[1,1]-sigma_y, sigma[2,2]-sigma_z])\n",
    "\n",
    "    # calculate dres with NR \n",
    "    F_py = np.array([[lmx,   0,    0], \n",
    "                     [0, lmy+1e-6, 0], \n",
    "                     [0,     0,  lmz]])\n",
    "    F_pz = np.array([[lmx,   0,    0], \n",
    "                     [0,    lmy  , 0], \n",
    "                     [0, 0, lmz+1e-6]])\n",
    "    sigma_py, _, _ = evalGovindjee(dt, F_py, C_i_inv)\n",
    "    sigma_pz, _, _ = evalGovindjee(dt, F_pz, C_i_inv)\n",
    "    \n",
    "    \n",
    "    dres = np.array([[(sigma_py[1,1]-sigma[1,1])/1e-6,(sigma_py[2,2]-sigma[2,2])/1e-6],\\\n",
    "                        [(sigma_pz[1,1]-sigma[1,1])/1e-6,(sigma_pz[2,2]-sigma[2,2])/1e-6]])\n",
    "    \n",
    "    deps = np.linalg.solve(dres,-res)\n",
    "    eps_y += deps[0]\n",
    "    eps_z += deps[1]\n",
    "    normres = np.linalg.norm(res)\n",
    "    itr+=1 \n",
    "    return [normres, itr, eps_x, eps_y, eps_z, sigma_y, sigma_z, C_i_inv, dt]\n",
    "\n",
    "def timeloop(C_i_inv, eps_x):\n",
    "    dt = 1.0\n",
    "    normres = 1.0\n",
    "    itr = 0\n",
    "    itermax = 20\n",
    "    cond_fun = lambda x: np.sign(x[0]-1.e-6) + np.sign(itermax - x[1]) > 0\n",
    "    inputs = while_loop(cond_fun, outerloop, [normres,itr, eps_x, 0.0, 0.0, 0.0, 0.0, C_i_inv, dt])\n",
    "    normres, itr, eps_x, eps_y, eps_z, sigma_y, sigma_z, C_i_inv, dt = inputs\n",
    "    \n",
    "    lmx, lmy, lmz = 1+eps_x, 1+eps_y, 1+eps_z\n",
    "    F = np.array([[lmx,   0,    0], \n",
    "                  [0,    lmy,   0], \n",
    "                  [0,    0,   lmz]])\n",
    "    sigma, C_i_inv_new, lamb_e = evalGovindjee(dt, F, C_i_inv)\n",
    "    return C_i_inv_new, sigma\n",
    "\n",
    "@jit\n",
    "def gov_uniaxial():\n",
    "    nsteps = 100\n",
    "\n",
    "    C_i_inv = np.eye(3)\n",
    "    eps_x1  = np.linspace(1e-6,0.5,int(nsteps/2))\n",
    "    eps_x2  = np.ones(int(nsteps/2))*0.5\n",
    "    eps_x   = np.hstack((eps_x1, eps_x2))\n",
    "\n",
    "    C_i_inv, sigma_vec = scan(timeloop, C_i_inv, eps_x)\n",
    "    \n",
    "    return sigma_vec"
   ]
  },
  {
   "cell_type": "code",
   "execution_count": 26,
   "id": "c3439dac",
   "metadata": {},
   "outputs": [],
   "source": [
    "sigma_vec = gov_uniaxial()"
   ]
  },
  {
   "cell_type": "code",
   "execution_count": 27,
   "id": "318210f8",
   "metadata": {},
   "outputs": [
    {
     "data": {
      "text/plain": [
       "[<matplotlib.lines.Line2D at 0x168b5c3d0>]"
      ]
     },
     "execution_count": 27,
     "metadata": {},
     "output_type": "execute_result"
    },
    {
     "data": {
      "image/png": "[encoded data removed]",
      "text/plain": [
       "<Figure size 432x288 with 1 Axes>"
      ]
     },
     "metadata": {
      "needs_background": "light"
     },
     "output_type": "display_data"
    }
   ],
   "source": [
    "plt.plot(sigma_vec[:,0,0])"
   ]
  },
  {
   "cell_type": "markdown",
   "id": "8b86ad42",
   "metadata": {},
   "source": [
    "## Biaxial"
   ]
  },
  {
   "cell_type": "code",
   "execution_count": 37,
   "id": "f9a46d41",
   "metadata": {},
   "outputs": [],
   "source": [
    "def outerloop(inputs):\n",
    "    res, itr, eps_x, eps_y, eps_z, sigma_y, sigma_z, C_i_inv, dt = inputs\n",
    "    lmx, lmy, lmz = 1+eps_x, 1+eps_y, 1+eps_z \n",
    "    F    = np.array([[lmx,   0,    0], \n",
    "                     [0,    lmy,   0], \n",
    "                     [0,    0,   lmz]])\n",
    "    sigma, C_i_inv_new, lamb_e = evalGovindjee(dt, F, C_i_inv)\n",
    "    res = sigma[2,2]-sigma_z\n",
    "\n",
    "    # calculate dres with NR \n",
    "    F_pz = np.array([[lmx,   0,    0], \n",
    "                     [0,    lmy  , 0], \n",
    "                     [0, 0, lmz+1e-6]])\n",
    "    sigma_pz, _, _ = evalGovindjee(dt, F_pz, C_i_inv)\n",
    "    \n",
    "    dres = (sigma_pz[2,2]-sigma[2,2])/1e-6\n",
    "    \n",
    "    deps = -res/dres\n",
    "    eps_z += deps\n",
    "    itr+=1 \n",
    "    return [res, itr, eps_x, eps_y, eps_z, sigma_y, sigma_z, C_i_inv, dt]\n",
    "\n",
    "def timeloop(C_i_inv, data):\n",
    "    eps_x, eps_y, dt = data\n",
    "    res = 1.0\n",
    "    itr = 0\n",
    "    itermax = 20\n",
    "    cond_fun = lambda x: np.sign(x[0]-1.e-6) + np.sign(itermax - x[1]) > 0\n",
    "    inputs = while_loop(cond_fun, outerloop, [res,itr, eps_x, eps_y, 0.0, 0.0, 0.0, C_i_inv, dt])\n",
    "    normres, itr, eps_x, eps_y, eps_z, sigma_y, sigma_z, C_i_inv, dt = inputs\n",
    "    \n",
    "    lmx, lmy, lmz = 1+eps_x, 1+eps_y, 1+eps_z\n",
    "    F = np.array([[lmx,   0,    0], \n",
    "                  [0,    lmy,   0], \n",
    "                  [0,    0,   lmz]])\n",
    "    sigma, C_i_inv_new, lamb_e = evalGovindjee(dt, F, C_i_inv)\n",
    "    return C_i_inv_new, sigma\n",
    "\n",
    "@jit\n",
    "def gov_biaxial(eps_x, eps_y, dt):\n",
    "    dt = np.ones_like(eps_x)*dt\n",
    "    C_i_inv = np.eye(3)\n",
    "    C_i_inv, sigma_vec = scan(timeloop, C_i_inv, [eps_x, eps_y, dt])\n",
    "    \n",
    "    return sigma_vec"
   ]
  },
  {
   "cell_type": "code",
   "execution_count": 38,
   "id": "b828153d",
   "metadata": {},
   "outputs": [],
   "source": [
    "with open('training_data/gov_data.npy','rb') as f:\n",
    "    time, eps_x, eps_y, sigma_x, sigma_y = np.load(f)\n",
    "time = time[:200]"
   ]
  },
  {
   "cell_type": "code",
   "execution_count": 47,
   "id": "351d067f",
   "metadata": {},
   "outputs": [],
   "source": [
    "sigma_pr = gov_biaxial(eps_x[:200], eps_y[:200], 1.0) "
   ]
  },
  {
   "cell_type": "code",
   "execution_count": 48,
   "id": "2e97e963",
   "metadata": {},
   "outputs": [
    {
     "data": {
      "text/plain": [
       "[<matplotlib.lines.Line2D at 0x17a92b550>]"
      ]
     },
     "execution_count": 48,
     "metadata": {},
     "output_type": "execute_result"
    },
    {
     "data": {
      "image/png": "[encoded data removed]",
      "text/plain": [
       "<Figure size 432x288 with 1 Axes>"
      ]
     },
     "metadata": {
      "needs_background": "light"
     },
     "output_type": "display_data"
    }
   ],
   "source": [
    "fig, ax = plt.subplots()\n",
    "\n",
    "ax.plot(time[:200], sigma_x[:200], '.')\n",
    "ax.plot(time[:200], sigma_pr[:,0,0])"
   ]
  },
  {
   "cell_type": "code",
   "execution_count": null,
   "id": "1f5934b0",
   "metadata": {},
   "outputs": [],
   "source": []
  }
 ],
 "metadata": {
  "interpreter": {
   "hash": "920e7a8945330110f9e03acbda53cbdd3d881ab4a4172d15e426a9c275db3432"
  },
  "kernelspec": {
   "display_name": "Intel",
   "language": "python",
   "name": "python3"
  },
  "language_info": {
   "codemirror_mode": {
    "name": "ipython",
    "version": 3
   },
   "file_extension": ".py",
   "mimetype": "text/x-python",
   "name": "python",
   "nbconvert_exporter": "python",
   "pygments_lexer": "ipython3",
   "version": "3.10.4"
  }
 },
 "nbformat": 4,
 "nbformat_minor": 5
}
