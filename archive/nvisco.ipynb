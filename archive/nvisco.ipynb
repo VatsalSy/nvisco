{
 "cells": [
  {
   "cell_type": "code",
   "execution_count": 1,
   "metadata": {},
   "outputs": [],
   "source": [
    "# Import and initialize\n",
    "from jax.config import config\n",
    "config.update('jax_platform_name', 'cpu') #Otherwise jax displays an annoying warning every time\n",
    "config.update('jax_disable_jit', False)\n",
    "config.update('jax_enable_x64', True)\n",
    "#config.update('jax_debug_nans', True) #this checks outputs for nans everytime and reruns the function with non-optimized mode.\n",
    "\n",
    "\n",
    "import jax.numpy as np\n",
    "import numpy as onp\n",
    "import matplotlib.pyplot as plt\n",
    "import matplotlib\n",
    "font = {'size'   : 16}\n",
    "matplotlib.rc('font', **font)\n",
    "from NODE_fns import NODE\n",
    "from jax import grad, random, jit, jacobian, jacfwd, jacrev\n",
    "from functools import partial\n",
    "import jax.example_libraries.optimizers as optimizers\n",
    "from jax.lax import while_loop, fori_loop, scan\n",
    "import pickle\n",
    "key = random.PRNGKey(0)\n"
   ]
  },
  {
   "cell_type": "code",
   "execution_count": 2,
   "metadata": {},
   "outputs": [],
   "source": [
    "# N-ODE based Φ\n",
    "with open('saved/norm_w_jax.npy', 'rb') as f:\n",
    "    [inp_mean, inp_stdv, out_mean, out_stdv] = pickle.load(f)\n",
    "\n",
    "def dPhi(taui, params):\n",
    "    NODE1_params, NODE2_params, NODE3_params, NODE4_params, NODE5_params = params\n",
    "    \n",
    "    tau1 = taui[0]\n",
    "    tau2 = taui[1]\n",
    "    tau3 = taui[2]\n",
    "\n",
    "    tau1 = (tau1 - inp_mean)/inp_stdv\n",
    "    tau2 = (tau2 - inp_mean)/inp_stdv\n",
    "    tau3 = (tau3 - inp_mean)/inp_stdv\n",
    "\n",
    "    N1 = NODE(tau1, NODE1_params)\n",
    "    N2 = NODE(tau1 + tau2, NODE2_params)\n",
    "    N3 = NODE(tau1 + tau2 + tau3, NODE3_params)\n",
    "    N4 = NODE(tau1**2 + tau2**2 + tau3**2 + 2*tau1*tau2 + 2*tau1*tau3 + 2*tau2*tau3, NODE4_params)\n",
    "    N5 = NODE(tau1**2 + tau2**2 + tau3**2 -   tau1*tau2 -   tau1*tau3 -   tau2*tau3, NODE5_params)\n",
    "\n",
    "    Phi1 = N1 + N2 + N3 + 2*N4*(tau1 + tau2 + tau3) + N5*(2*tau1 - tau2 - tau3) #dphi/dtau1\n",
    "    Phi2 =      N2 + N3 + 2*N4*(tau1 + tau2 + tau3) + N5*(2*tau2 - tau1 - tau3)\n",
    "    Phi3 =           N3 + 2*N4*(tau1 + tau2 + tau3) + N5*(2*tau3 - tau1 - tau2)\n",
    "\n",
    "    Phi1 = Phi1*out_stdv + out_mean\n",
    "    Phi2 = Phi2*out_stdv + out_mean\n",
    "    Phi3 = Phi3*out_stdv + out_mean\n",
    "    return [Phi1, Phi2, Phi3]\n",
    "\n",
    "d2Phi = jacobian(dPhi, argnums=0)"
   ]
  },
  {
   "cell_type": "code",
   "execution_count": 3,
   "metadata": {},
   "outputs": [],
   "source": [
    "# Material parameters:\n",
    "mu_m = np.array([51.4, -18, 3.86])\n",
    "alpha_m = np.array([1.8, -2, 7])\n",
    "K_m = 10000\n",
    "tau = 17.5\n",
    "shear_mod = 1/2*(mu_m[0]*alpha_m[0] + mu_m[1]*alpha_m[1] + mu_m[2]*alpha_m[2])\n",
    "eta_D = tau*shear_mod\n",
    "eta_V = tau*K_m\n",
    "mu = 77.77 #=shear_mod\n",
    "K = 10000"
   ]
  },
  {
   "cell_type": "code",
   "execution_count": 4,
   "metadata": {},
   "outputs": [],
   "source": [
    "def innerNR(iterables, eps_e_trial, dt, params):\n",
    "    normres, itr, eps_e = iterables\n",
    "    \n",
    "    lamb_e = np.exp(eps_e)\n",
    "    Je = lamb_e[0]*lamb_e[1]*lamb_e[2]\n",
    "    bbar_e = Je**(-2/3)*lamb_e**2 #(54)\n",
    "\n",
    "    b1 = bbar_e[0]\n",
    "    b2 = bbar_e[1]\n",
    "    b3 = bbar_e[2]\n",
    "\n",
    "    #Calculate K_AB\n",
    "    ddev11 = 0\n",
    "    ddev12 = 0\n",
    "    ddev13 = 0\n",
    "    ddev22 = 0\n",
    "    ddev23 = 0\n",
    "    ddev33 = 0\n",
    "\n",
    "    for r in range(3):\n",
    "        e = alpha_m[r]/2\n",
    "        ddev11 = ddev11 + mu_m[r]*(2*e)*( 4/9*b1**e + 1/9*(b2**e + b3**e)) #(B12)\n",
    "        ddev22 = ddev22 + mu_m[r]*(2*e)*( 4/9*b2**e + 1/9*(b1**e + b3**e))\n",
    "        ddev33 = ddev33 + mu_m[r]*(2*e)*( 4/9*b3**e + 1/9*(b1**e + b2**e))\n",
    "\n",
    "        ddev12 = ddev12 + mu_m[r]*(2*e)*(-2/9*(b1**e + b2**e) + 1/9*b3**e) #(B13)\n",
    "        ddev13 = ddev13 + mu_m[r]*(2*e)*(-2/9*(b1**e + b3**e) + 1/9*b2**e)\n",
    "        ddev23 = ddev23 + mu_m[r]*(2*e)*(-2/9*(b2**e + b3**e) + 1/9*b1**e)\n",
    "    ddev = np.array([[ddev11, ddev12, ddev13],[ddev12, ddev22, ddev23], [ddev13, ddev23, ddev33]])\n",
    "\n",
    "    devtau1 = 0\n",
    "    devtau2 = 0\n",
    "    devtau3 = 0\n",
    "    for r in range(3):\n",
    "        e = alpha_m[r]/2\n",
    "        devtau1 = devtau1 + mu_m[r]*(2/3*b1**e - 1/3*(b2**e + b3**e)) #(B8)\n",
    "        devtau2 = devtau2 + mu_m[r]*(2/3*b2**e - 1/3*(b1**e + b3**e))\n",
    "        devtau3 = devtau3 + mu_m[r]*(2/3*b3**e - 1/3*(b1**e + b2**e))\n",
    "    devtau = np.array([devtau1, devtau2, devtau3])\n",
    "\n",
    "    tau_NEQI = 3*K_m/2*(Je**2-1) #(B8)\n",
    "    tau_A = devtau + 1/3*tau_NEQI #(B8)\n",
    "    order = np.argsort(-tau_A)\n",
    "\n",
    "    d2phid2tau = np.array(d2Phi(tau_A[order], params)) #Get the 2nd derivatives of Phi with NODEs\n",
    "\n",
    "    dtaui_depsej = ddev + K_m*Je**2\n",
    "    dtaui_depsej = dtaui_depsej[order] #-tau_A.argsort sorts descending order which is what I need.\n",
    "\n",
    "    K_AB = np.eye(3) + dt*np.dot(d2phid2tau, dtaui_depsej)\n",
    "    K_AB_inv = np.linalg.inv(K_AB)\n",
    "    \n",
    "    res = eps_e + dt*(1/2/eta_D*devtau + 1/9/eta_V*tau_NEQI*np.ones(3))-eps_e_trial #(60)\n",
    "    deps_e = np.dot(K_AB_inv, -res)\n",
    "    eps_e = eps_e + deps_e\n",
    "    normres = np.linalg.norm(res)\n",
    "    itr+= 1\n",
    "    return [normres, itr, eps_e]\n",
    "\n",
    "\n",
    "def evalGovindjee(F, C_i_inv, dt, params):\n",
    "    #Preprocessing\n",
    "    be_trial = np.dot(F, np.dot(C_i_inv, F.transpose()))\n",
    "    lamb_e_trial, n_A = np.linalg.eigh(be_trial)\n",
    "    n_A = np.real(n_A)\n",
    "    lamb_e_trial = np.sqrt(np.real(lamb_e_trial) + 1.0e-6)\n",
    "    eps_e_trial = np.log(lamb_e_trial + 1.0e-6)\n",
    "    eps_e = eps_e_trial #Initial guess for eps_e\n",
    "    \n",
    "    #Inner Neuton Raphson\n",
    "    normres = 1.0\n",
    "    itr = 0\n",
    "    itermax = 20\n",
    "    cond_fun = lambda x: np.sign(x[0]-1.e-6) + np.sign(itermax - x[1]) > 0\n",
    "    body_fun = lambda iterables: innerNR(iterables, eps_e_trial, dt, params)\n",
    "    normres, itr, eps_e = while_loop(cond_fun, body_fun, [normres,itr, eps_e])\n",
    "    lamb_e = np.exp(eps_e)\n",
    "    Je = lamb_e[0]*lamb_e[1]*lamb_e[2]\n",
    "    bbar_e = Je**(-2/3)*lamb_e**2 #(54)\n",
    "\n",
    "    b1 = bbar_e[0]\n",
    "    b2 = bbar_e[1]\n",
    "    b3 = bbar_e[2]\n",
    "\n",
    "    devtau1 = 0\n",
    "    devtau2 = 0\n",
    "    devtau3 = 0\n",
    "    for r in range(3):\n",
    "        e = alpha_m[r]/2\n",
    "        devtau1 = devtau1 + mu_m[r]*(2/3*b1**e - 1/3*(b2**e + b3**e)) #(B8)\n",
    "        devtau2 = devtau2 + mu_m[r]*(2/3*b2**e - 1/3*(b1**e + b3**e))\n",
    "        devtau3 = devtau3 + mu_m[r]*(2/3*b3**e - 1/3*(b1**e + b2**e))\n",
    "\n",
    "    devtau = np.array([devtau1, devtau2, devtau3])\n",
    "\n",
    "    tau_NEQI = 3*K_m/2*(Je**2-1) #(B8)\n",
    "    tau_A = devtau + 1/3*tau_NEQI #(B8)\n",
    "    tau_NEQ = tau_A[0]*np.outer(n_A[:,0], n_A[:,0]) + tau_A[1]*np.outer(n_A[:,1], n_A[:,1]) + tau_A[2]*np.outer(n_A[:,2], n_A[:,2]) #(58)\n",
    "    b = np.dot(F,F.transpose())\n",
    "    J = np.linalg.det(F)\n",
    "    sigma_EQ = mu/J*(b-np.eye(3)) + 2*K*(J-1)*np.eye(3) #neo Hookean material\n",
    "    sigma = 1/Je*tau_NEQ + sigma_EQ #(7)\n",
    "    \n",
    "    #Post processing\n",
    "    be = np.einsum('i,ji,ki->jk', lamb_e**2, n_A, n_A)\n",
    "    F_inv = np.linalg.inv(F)\n",
    "    C_i_inv_new = np.dot(F_inv, np.dot(be, F_inv.transpose()))\n",
    "    return sigma, C_i_inv_new"
   ]
  },
  {
   "cell_type": "code",
   "execution_count": 5,
   "metadata": {},
   "outputs": [],
   "source": [
    "def outerNR(iterables, eps_x, eps_y, sigma_z, C_i_inv, dt, params):\n",
    "    res, itr, eps_z = iterables \n",
    "    lmx, lmy, lmz = 1+eps_x, 1+eps_y, 1+eps_z \n",
    "    F    = np.array([[lmx,   0,    0], \n",
    "                     [0,    lmy,   0], \n",
    "                     [0,    0,   lmz]])\n",
    "    sigma, _ = evalGovindjee(F, C_i_inv, dt, params)\n",
    "    res = sigma[2,2]-sigma_z\n",
    "\n",
    "    # calculate dres with NR \n",
    "    F_pz = np.array([[lmx,   0,    0], \n",
    "                     [0,    lmy  , 0], \n",
    "                     [0, 0, lmz+1e-6]])\n",
    "    sigma_pz, _ = evalGovindjee(F_pz, C_i_inv, dt, params)\n",
    "    \n",
    "    dres = (sigma_pz[2,2]-sigma[2,2])/1e-6\n",
    "    \n",
    "    deps = -res/dres\n",
    "    eps_z += deps\n",
    "    itr+=1 \n",
    "    normres = np.abs(res)\n",
    "    return [normres, itr, eps_z]\n",
    "\n",
    "def timeloop(C_i_inv, strains, dt, params):\n",
    "    eps_x, eps_y = strains \n",
    "    normres = 1.0\n",
    "    itr = 0\n",
    "    itermax = 20\n",
    "    cond_fun = lambda x: np.sign(x[0]-1.e-6) + np.sign(itermax - x[1]) > 0\n",
    "    body_fun = lambda inputs: outerNR(inputs, eps_x, eps_y, 0.0, C_i_inv, dt, params)\n",
    "    iterables = while_loop(cond_fun, body_fun, [normres, itr, 0.0])\n",
    "    res, itr, eps_z = iterables\n",
    "    \n",
    "    lmx, lmy, lmz = 1+eps_x, 1+eps_y, 1+eps_z\n",
    "    F = np.array([[lmx,   0,    0], \n",
    "                  [0,    lmy,   0], \n",
    "                  [0,    0,   lmz]])\n",
    "    sigma, C_i_inv_new = evalGovindjee(F, C_i_inv, dt, params)\n",
    "    return C_i_inv_new, sigma\n",
    "\n",
    "@jit\n",
    "def biaxial_visco(eps_x, eps_y, dt, params):\n",
    "    C_i_inv = np.eye(3)\n",
    "    body_fun = lambda C_i_inv, strains: timeloop(C_i_inv, strains, dt, params)\n",
    "    C_i_inv, sigma_vec = scan(body_fun, C_i_inv, [eps_x, eps_y])\n",
    "    \n",
    "    return sigma_vec"
   ]
  },
  {
   "cell_type": "code",
   "execution_count": 6,
   "metadata": {},
   "outputs": [],
   "source": [
    "# Load (trained) parameters and training data\n",
    "with open('saved/params_jax.npy', 'rb') as f:\n",
    "    params = pickle.load(f)\n",
    "with open('training_data/gov_data.npy','rb') as f:\n",
    "    time, eps_x, eps_y, sigma_x, sigma_y = np.load(f)\n",
    "time = time[:200]\n",
    "eps_x = eps_x.reshape([-1,200])\n",
    "eps_y = eps_y.reshape([-1,200])\n",
    "sigma_x = sigma_x.reshape([-1,200])\n",
    "sigma_y = sigma_y.reshape([-1,200])"
   ]
  },
  {
   "cell_type": "code",
   "execution_count": 7,
   "metadata": {},
   "outputs": [],
   "source": [
    "# Predict sigma\n",
    "itest = 1\n",
    "sigma_pr = biaxial_visco(eps_x[itest], eps_y[itest], 1.0, params) "
   ]
  },
  {
   "cell_type": "code",
   "execution_count": 8,
   "metadata": {},
   "outputs": [
    {
     "name": "stdout",
     "output_type": "stream",
     "text": [
      "459 ms ± 4.35 ms per loop (mean ± std. dev. of 7 runs, 1 loop each)\n"
     ]
    }
   ],
   "source": [
    "%%timeit\n",
    "sigma_pr = biaxial_visco(eps_x[itest], eps_y[itest], 1.0, params) "
   ]
  },
  {
   "cell_type": "code",
   "execution_count": 8,
   "metadata": {},
   "outputs": [
    {
     "data": {
      "text/plain": [
       "[Text(0.5, 0, 'time'), Text(0, 0.5, '$\\\\sigma_{xx}$')]"
      ]
     },
     "execution_count": 8,
     "metadata": {},
     "output_type": "execute_result"
    },
    {
     "data": {
      "image/png": "[encoded data removed]",
      "text/plain": [
       "<Figure size 432x288 with 1 Axes>"
      ]
     },
     "metadata": {
      "needs_background": "light"
     },
     "output_type": "display_data"
    }
   ],
   "source": [
    "# Plot the predicted sigma\n",
    "fig, ax = plt.subplots()\n",
    "ax.plot(time, sigma_x[itest], 'k.')\n",
    "ax.plot(time, sigma_pr[:,0,0],'b-')\n",
    "ax.set(xlabel='time', ylabel = '$\\sigma_{xx}$')"
   ]
  },
  {
   "cell_type": "code",
   "execution_count": 14,
   "metadata": {},
   "outputs": [
    {
     "name": "stdout",
     "output_type": "stream",
     "text": [
      "(200, 2)\n"
     ]
    }
   ],
   "source": [
    "out = onp.array([time,sigma_pr[:,0,0]]).T\n",
    "print(out.shape)\n",
    "onp.savetxt('sigmax.txt', out)"
   ]
  },
  {
   "cell_type": "code",
   "execution_count": 20,
   "metadata": {},
   "outputs": [
    {
     "data": {
      "text/plain": [
       "<matplotlib.legend.Legend at 0x14f145060>"
      ]
     },
     "execution_count": 20,
     "metadata": {},
     "output_type": "execute_result"
    },
    {
     "data": {
      "image/png": "[encoded data removed]",
      "text/plain": [
       "<Figure size 432x288 with 1 Axes>"
      ]
     },
     "metadata": {
      "needs_background": "light"
     },
     "output_type": "display_data"
    }
   ],
   "source": [
    "plt.plot(time,eps_x[itest], label='$\\epsilon_x$')\n",
    "plt.plot(time,eps_y[itest], label='$\\epsilon_y$')\n",
    "plt.legend()"
   ]
  },
  {
   "cell_type": "code",
   "execution_count": 7,
   "metadata": {},
   "outputs": [],
   "source": [
    "def loss(params, eps_x, eps_y, sigma_x, sigma_y):\n",
    "    sigma_pr = biaxial_visco(eps_x, eps_y, 1.0, params)\n",
    "    loss = np.sum((sigma_pr[:,0,0]-sigma_x)**2) + np.sum((sigma_pr[:,1,1]-sigma_y)**2)\n",
    "    return loss/eps_x.shape[0]\n",
    "\n",
    "def step(loss, i, opt_state, X1_batch, X2_batch, Y1_batch, Y2_batch):\n",
    "    params = get_params(opt_state)\n",
    "    g = jacfwd(loss, argnums=0)(params, X1_batch, X2_batch, Y1_batch, Y2_batch)\n",
    "    return opt_update(i, g, opt_state)\n",
    "\n",
    "def init_params(layers, key):\n",
    "    Ws = []\n",
    "    for i in range(len(layers) - 1):\n",
    "        std_glorot = np.sqrt(2/(layers[i] + layers[i + 1]))\n",
    "        key, subkey = random.split(key)\n",
    "        Ws.append(random.normal(subkey, (layers[i], layers[i + 1]))*std_glorot)\n",
    "    b = np.zeros(layers[i + 1])\n",
    "    return Ws, b\n",
    "\n",
    "layers = [1, 5, 5, 1]\n",
    "NODE1_params = init_params(layers, key)\n",
    "NODE2_params = init_params(layers, key)\n",
    "NODE3_params = init_params(layers, key)\n",
    "NODE4_params = init_params(layers, key)\n",
    "NODE5_params = init_params(layers, key)\n",
    "# params = [NODE1_params, NODE2_params, NODE3_params, NODE4_params, NODE5_params]\n",
    "\n",
    "def train(loss, X1, X2, Y1, Y2, opt_state, key, nIter = 1000):\n",
    "    train_loss = []\n",
    "    val_loss = []\n",
    "    for it in range(nIter+1):\n",
    "        key, subkey = random.split(key)\n",
    "        i = random.choice(subkey, 16, shape = [1], replace = False)[0]\n",
    "        # i = 9\n",
    "        j = it//10 + 3\n",
    "        opt_state = step(loss, it, opt_state, X1[i,2:j], X2[i,2:j], Y1[i,2:j], Y2[i,2:j])         \n",
    "        if it % 1 == 0 or it == nIter:\n",
    "            params = get_params(opt_state)\n",
    "            train_loss_value = loss(params, X1[i,2:j], X2[i,2:j], Y1[i,2:j], Y2[i,2:j])\n",
    "            print(i,j)\n",
    "            train_loss.append(train_loss_value)\n",
    "            to_print = \"it %i, train loss = %e\" % (it, train_loss_value)\n",
    "            print(to_print)\n",
    "    return get_params(opt_state), train_loss, val_loss "
   ]
  },
  {
   "cell_type": "code",
   "execution_count": null,
   "metadata": {},
   "outputs": [],
   "source": [
    "# Train!\n",
    "opt_init, opt_update, get_params = optimizers.adam(1.e-6)\n",
    "opt_state = opt_init(params)\n",
    "\n",
    "params, train_loss, val_loss = train(loss, eps_x, eps_y, sigma_x, sigma_y, opt_state, key, nIter = 100)"
   ]
  },
  {
   "cell_type": "code",
   "execution_count": 15,
   "metadata": {},
   "outputs": [
    {
     "name": "stdout",
     "output_type": "stream",
     "text": [
      "1.3527383395233622e-06\n",
      "[([DeviceArray([[ 1.79468627e-09,  1.17031324e-09, -6.57533803e-10,\n",
      "              -9.32397435e-11,  1.41739332e-09]], dtype=float64), DeviceArray([[-8.12788977e-10, -6.36047627e-10, -6.92115111e-10,\n",
      "              -5.03055813e-10, -5.06328848e-10],\n",
      "             [-1.92293916e-09, -1.50479512e-09, -1.63744254e-09,\n",
      "              -1.19015605e-09, -1.19789957e-09],\n",
      "             [ 1.48815485e-09,  1.16455487e-09,  1.26721017e-09,\n",
      "               9.21056963e-10,  9.27049640e-10],\n",
      "             [ 8.38669867e-10,  6.56300706e-10,  7.14153495e-10,\n",
      "               5.19074156e-10,  5.22451411e-10],\n",
      "             [-5.24944035e-10, -4.10794705e-10, -4.47006184e-10,\n",
      "              -3.24901243e-10, -3.27015149e-10]], dtype=float64), DeviceArray([[ 7.61828430e-10],\n",
      "             [-4.69381491e-09],\n",
      "             [-2.35211705e-09],\n",
      "             [-5.98512019e-09],\n",
      "             [-2.61031796e-10]], dtype=float64)], DeviceArray([4.55230564e-13], dtype=float64)), ([DeviceArray([[ 1.46080911e-10,  1.01039333e-10, -6.22598818e-11,\n",
      "              -1.18139857e-11,  1.14825594e-10]], dtype=float64), DeviceArray([[-6.06019627e-11, -4.57712426e-11, -4.80842858e-11,\n",
      "              -3.67967592e-11, -3.50140094e-11],\n",
      "             [-1.59761121e-10, -1.20663832e-10, -1.26761561e-10,\n",
      "              -9.70049687e-11, -9.23052184e-11],\n",
      "             [ 1.01573644e-10,  7.67161938e-11,  8.05930357e-11,\n",
      "               6.16742555e-11,  5.86862271e-11],\n",
      "             [ 6.06331775e-11,  4.57948184e-11,  4.81090530e-11,\n",
      "               3.68157124e-11,  3.50320444e-11],\n",
      "             [-4.07378406e-11, -3.07683366e-11, -3.23232101e-11,\n",
      "              -2.47355109e-11, -2.35371112e-11]], dtype=float64), DeviceArray([[ 7.67394687e-11],\n",
      "             [-3.90443331e-10],\n",
      "             [-1.89884556e-10],\n",
      "             [-5.02976015e-10],\n",
      "             [-1.54162319e-11]], dtype=float64)], DeviceArray([6.28398146e-16], dtype=float64)), ([DeviceArray([[-5.82333400e-10, -6.20743631e-12,  1.23801346e-10,\n",
      "              -1.71305213e-10, -4.83553446e-10]], dtype=float64), DeviceArray([[ 8.56650214e-11,  4.66853484e-11,  5.67205545e-11,\n",
      "               2.79741228e-11,  5.02694454e-11],\n",
      "             [ 8.54598557e-10,  4.65735381e-10,  5.65847104e-10,\n",
      "               2.79071254e-10,  5.01490512e-10],\n",
      "             [-4.86684269e-10, -2.65231063e-10, -3.22243562e-10,\n",
      "              -1.58927941e-10, -2.85593208e-10],\n",
      "             [-6.18588528e-10, -3.37115668e-10, -4.09580058e-10,\n",
      "              -2.02001601e-10, -3.62996491e-10],\n",
      "             [ 1.32032327e-10,  7.19543994e-11,  8.74212913e-11,\n",
      "               4.31154801e-11,  7.74784352e-11]], dtype=float64), DeviceArray([[-5.56788203e-10],\n",
      "             [ 6.24220943e-10],\n",
      "             [ 4.10357281e-10],\n",
      "             [ 9.99171366e-10],\n",
      "             [-3.66401231e-10]], dtype=float64)], DeviceArray([-9.62657163e-14], dtype=float64)), ([DeviceArray([[ 6.80689096e-12,  3.86415805e-12, -3.41251738e-12,\n",
      "               7.68741719e-13,  5.79065058e-12]], dtype=float64), DeviceArray([[-1.35594233e-11, -7.68034726e-12, -9.02959242e-12,\n",
      "              -5.33899534e-12, -7.48253821e-12],\n",
      "             [-1.27207533e-11, -7.20530666e-12, -8.47109905e-12,\n",
      "              -5.00877075e-12, -7.01973235e-12],\n",
      "             [ 1.54282954e-11,  8.73891643e-12,  1.02741257e-11,\n",
      "               6.07485994e-12,  8.51384365e-12],\n",
      "             [ 5.00287052e-12,  2.83373283e-12,  3.33154890e-12,\n",
      "               1.96987009e-12,  2.76074940e-12],\n",
      "             [-8.44960737e-12, -4.78603827e-12, -5.62682563e-12,\n",
      "              -3.32701571e-12, -4.66277277e-12]], dtype=float64), DeviceArray([[ 9.26603671e-12],\n",
      "             [-4.93876747e-11],\n",
      "             [-1.63594066e-11],\n",
      "             [-4.24176902e-11],\n",
      "             [ 1.57933064e-12]], dtype=float64)], DeviceArray([-1.17648299e-09], dtype=float64)), ([DeviceArray([[-1.12331412e-07, -5.91560598e-08,  1.57129281e-08,\n",
      "               1.84596729e-09, -2.30162242e-07]], dtype=float64), DeviceArray([[ 3.08300676e-07,  1.47765318e-07,  2.32460287e-07,\n",
      "               1.11683969e-07,  1.37089624e-07],\n",
      "             [ 2.52317354e-07,  1.20933092e-07,  1.90248575e-07,\n",
      "               9.14036382e-08,  1.12195962e-07],\n",
      "             [-3.86882529e-07, -1.85428785e-07, -2.91711406e-07,\n",
      "              -1.40150767e-07, -1.72031995e-07],\n",
      "             [-1.85018059e-07, -8.86772376e-08, -1.39504563e-07,\n",
      "              -6.70240216e-08, -8.22705173e-08],\n",
      "             [ 1.16691357e-07,  5.59289575e-08,  8.79858801e-08,\n",
      "               4.22722196e-08,  5.18882229e-08]], dtype=float64), DeviceArray([[-1.53109892e-07],\n",
      "             [ 6.26772317e-07],\n",
      "             [ 2.14965855e-07],\n",
      "             [ 5.12056582e-07],\n",
      "             [-1.23876485e-09]], dtype=float64)], DeviceArray([-1.57042801e-06], dtype=float64))]\n"
     ]
    }
   ],
   "source": [
    "i=0\n",
    "j=4\n",
    "\n",
    "l = loss(params, eps_x[i,1:j], eps_y[i,1:j], sigma_x[i,1:j], sigma_y[i,1:j])\n",
    "g = jacfwd(loss, argnums=0)(params, eps_x[i,1:j], eps_y[i,1:j], sigma_x[i,1:j], sigma_y[i,1:j])\n",
    "print(l)\n",
    "print(g)"
   ]
  },
  {
   "cell_type": "code",
   "execution_count": 13,
   "metadata": {},
   "outputs": [
    {
     "name": "stdout",
     "output_type": "stream",
     "text": [
      "2.667621068556049e-06\n",
      "6.110256008437899e-06\n"
     ]
    }
   ],
   "source": [
    "import copy\n",
    "params2 = copy.deepcopy(params)\n",
    "params2[0][0][0][0][0] += 1.e-6\n",
    "l2 = loss(params2, eps_x[i,1:j], eps_y[i,1:j], sigma_x[i,1:j], sigma_y[i,1:j])\n",
    "\n",
    "d = (l2-l)/1.e-6\n",
    "print(l2)\n",
    "print(d)"
   ]
  },
  {
   "cell_type": "code",
   "execution_count": 14,
   "metadata": {},
   "outputs": [
    {
     "name": "stdout",
     "output_type": "stream",
     "text": [
      "2.6676129424597896e-06\n",
      "-2.0158402509699446e-05\n"
     ]
    }
   ],
   "source": [
    "import copy\n",
    "params3 = copy.deepcopy(params)\n",
    "params3[0][0][0][0][0] += 1.e-7\n",
    "l3 = loss(params3, eps_x[i,1:j], eps_y[i,1:j], sigma_x[i,1:j], sigma_y[i,1:j])\n",
    "\n",
    "d = (l3-l)/1.e-7\n",
    "print(l3)\n",
    "print(d)\n",
    "2.6676149583000406e-06"
   ]
  },
  {
   "cell_type": "markdown",
   "metadata": {},
   "source": [
    "Todo: try using relu instead of tanh"
   ]
  },
  {
   "cell_type": "code",
   "execution_count": 16,
   "metadata": {},
   "outputs": [
    {
     "name": "stdout",
     "output_type": "stream",
     "text": [
      "1.3527383395233622e-06\n",
      "0.0\n"
     ]
    }
   ],
   "source": [
    "import copy\n",
    "params4 = copy.deepcopy(params)\n",
    "params4[0][0][0][0][0] += 1.e-8\n",
    "l4 = loss(params4, eps_x[i,1:j], eps_y[i,1:j], sigma_x[i,1:j], sigma_y[i,1:j])\n",
    "\n",
    "d = (l4-l)/1.e-8\n",
    "print(l4)\n",
    "print(d)"
   ]
  }
 ],
 "metadata": {
  "interpreter": {
   "hash": "920e7a8945330110f9e03acbda53cbdd3d881ab4a4172d15e426a9c275db3432"
  },
  "kernelspec": {
   "display_name": "Python 3.10.4 ('jax')",
   "language": "python",
   "name": "python3"
  },
  "language_info": {
   "codemirror_mode": {
    "name": "ipython",
    "version": 3
   },
   "file_extension": ".py",
   "mimetype": "text/x-python",
   "name": "python",
   "nbconvert_exporter": "python",
   "pygments_lexer": "ipython3",
   "version": "3.10.4"
  },
  "orig_nbformat": 4
 },
 "nbformat": 4,
 "nbformat_minor": 2
}
