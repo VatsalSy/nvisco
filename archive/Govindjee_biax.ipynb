{
 "cells": [
  {
   "cell_type": "code",
   "execution_count": 1,
   "id": "f95e4aff-4d3a-451c-aaab-2edc1faee324",
   "metadata": {},
   "outputs": [],
   "source": [
    "import numpy as np\n",
    "import matplotlib.pyplot as plt\n",
    "import matplotlib\n",
    "font = {'size'   : 16}\n",
    "matplotlib.rc('font', **font)"
   ]
  },
  {
   "cell_type": "code",
   "execution_count": 2,
   "id": "11cea86c-eb4f-4047-a1dc-f6f5f4b946d6",
   "metadata": {},
   "outputs": [],
   "source": [
    "def evalGovindjee(F, C_i_inv, dt):\n",
    "    #Material parameters for Vulcanized rubber (Ogden material for neq):\n",
    "    mu_m = np.array([51.4, -18, 3.86])\n",
    "    alpha_m = np.array([1.8, -2, 7])\n",
    "    K_m = 10000\n",
    "    tau = 17.5\n",
    "    shear_mod = 1/2*(mu_m[0]*alpha_m[0] + mu_m[1]*alpha_m[1] + mu_m[2]*alpha_m[2])\n",
    "    eta_D = tau*shear_mod\n",
    "    eta_V = tau*K_m\n",
    "    #Neo Hookean for eq parts:\n",
    "    mu = shear_mod #same as mu for neq parts for simplicity.\n",
    "    K = K_m\n",
    "\n",
    "    be_trial = np.einsum('ij,jk,kl->il', F, C_i_inv, F.transpose())\n",
    "    lamb_e_trial, n_A = np.linalg.eig(be_trial)\n",
    "    lamb_e_trial = np.sqrt(np.real(lamb_e_trial))\n",
    "    eps_e_trial = np.log(lamb_e_trial)\n",
    "    \n",
    "    #Initial guess for eps_e\n",
    "    eps_e = eps_e_trial\n",
    "    normres = 1\n",
    "    iter = 0\n",
    "    itermax = 20\n",
    "    \n",
    "    while normres>1.e-6 and iter < itermax:\n",
    "        lamb_e = np.exp(eps_e)\n",
    "        Je = lamb_e[0]*lamb_e[1]*lamb_e[2]\n",
    "        bbar_e = Je**(-2/3)*lamb_e**2 #(54)\n",
    "        #Calculate K_AB\n",
    "        ddevtau_AdepsBe = np.zeros([3,3])\n",
    "        for A in range(3):\n",
    "            for B in range(3):\n",
    "                if A==B:\n",
    "                    for r in range(3):\n",
    "                        oi = np.array([0,1,2]) #Other indices. Indices other than A=B\n",
    "                        oi = np.delete(oi, A)\n",
    "                        ddevtau_AdepsBe[A,B]+= mu_m[r]*alpha_m[r]*(4/9*bbar_e[A]**(alpha_m[r]/2) + 1/9*bbar_e[oi[0]]**(alpha_m[r]/2)\n",
    "                                                                   + 1/9*bbar_e[oi[1]]**(alpha_m[r]/2)) #(B12)\n",
    "                else:\n",
    "                    for r in range(3):\n",
    "                        oi = np.array([0,1,2]) #Other index. Index other than A or B.\n",
    "                        oi = np.delete(oi, [A,B])\n",
    "                        ddevtau_AdepsBe[A,B]+= mu_m[r]*alpha_m[r]*(-2/9*bbar_e[A]**(alpha_m[r]/2) - 2/9*bbar_e[B]**(alpha_m[r]/2)\n",
    "                                                                   + 1/9*bbar_e[oi[0]]**(alpha_m[r]/2)) #(B13)\n",
    "        \n",
    "        \n",
    "        K_AB = np.eye(3) + dt/2/eta_D*ddevtau_AdepsBe - dt/3/eta_V*K_m*Je**2*np.ones([3,3]) #(B15)\n",
    "        \n",
    "        K_AB_inv = np.linalg.inv(K_AB)\n",
    "\n",
    "        devtau = np.zeros(3)\n",
    "        for A in range(3):\n",
    "            for r in range(3):\n",
    "                oi = np.array([0,1,2])\n",
    "                oi = np.delete(oi, A)\n",
    "                devtau[A]+= mu_m[r]*(2/3*bbar_e[A]**(alpha_m[r]/2) - 1/3*bbar_e[oi[0]]**(alpha_m[r]/2) - 1/3*bbar_e[oi[1]]**(alpha_m[r]/2)) #(B8)\n",
    "        tau_NEQdyadicI = 3/2*K_m*(Je**2-1) #(B8)\n",
    "        \n",
    "        res = eps_e + dt*(1/2/eta_D*devtau + 1/9/eta_V*tau_NEQdyadicI*np.ones(3))-eps_e_trial #(60), res=r in the paper\n",
    "        deps_e = np.einsum('ij,j->i', K_AB_inv, -res)\n",
    "        eps_e = eps_e + deps_e\n",
    "        normres = np.linalg.norm(res)\n",
    "        iter+= 1\n",
    "\n",
    "    #Now we have the value of eps_e\n",
    "    #Calculate tau_NEQ\n",
    "    lamb_e = np.exp(eps_e)\n",
    "    Je = lamb_e[0]*lamb_e[1]*lamb_e[2]\n",
    "    bbar_e = Je**(-2/3)*lamb_e**2\n",
    "    devtau = np.zeros(3)\n",
    "    for A in range(3):\n",
    "        for r in range(3):\n",
    "            oi = np.array([0,1,2])\n",
    "            oi = np.delete(oi, A)\n",
    "            devtau[A]+= mu_m[r]*(2/3*bbar_e[A]**(alpha_m[r]/2) - 1/3*bbar_e[oi[0]]**(alpha_m[r]/2) - 1/3*bbar_e[oi[1]]**(alpha_m[r]/2)) #(B8)\n",
    "    tau_NEQdyadicI = 3*K_m/2*(Je**2-1) #(B8)\n",
    "    tau_A = devtau + 1/3*tau_NEQdyadicI #(B8)\n",
    "    tau_NEQ = np.einsum('i,ji,ki->jk', tau_A, n_A, n_A) #(58)\n",
    "    tr_tau = np.trace(tau_NEQ)\n",
    "    \n",
    "    be = np.einsum('i,ji,ki->jk', lamb_e**2, n_A, n_A)\n",
    "    F_inv = np.linalg.inv(F)\n",
    "    C_i_inv_new = np.einsum('ij,jk,kl->il', F_inv, be, F_inv.transpose())\n",
    "    \n",
    "    J = np.linalg.det(F)\n",
    "    b = np.einsum('ij,kj->ik', F, F)\n",
    "    sigma_EQ = mu/J*(b-np.eye(3)) + 2*K*(J-1)*np.eye(3) #neo Hookean material\n",
    "    sigma = 1/Je*tau_NEQ + sigma_EQ #(7)\n",
    "    return sigma, C_i_inv_new, lamb_e"
   ]
  },
  {
   "cell_type": "code",
   "execution_count": 54,
   "id": "0dceff19-bc48-473d-90e3-1503b6ef4e36",
   "metadata": {},
   "outputs": [],
   "source": [
    "# uniaxial tension \n",
    "# epsilon_x(t)\n",
    "# sigma_y, sigma_z\n",
    "nsteps = 30\n",
    "dt = 1\n",
    "F_vec = np.zeros((nsteps,3,3))\n",
    "C_i_inv_vec = np.zeros((nsteps,3,3))\n",
    "sigma_x_vec = np.zeros((nsteps))\n",
    "sigma_y_vec = np.zeros((nsteps))\n",
    "sigma_z_vec = np.zeros((nsteps))\n",
    "eps_x_vec = np.zeros((nsteps))\n",
    "eps_y_vec = np.zeros((nsteps))\n",
    "eps_z_vec = np.zeros((nsteps))\n",
    "epsilon_xv_vec = np.zeros((nsteps))\n",
    "lamb_e_vec = np.zeros((nsteps,3))\n",
    "# initial condition for viscous strains \n",
    "epsilon_v = np.zeros((6))\n",
    "C_i_inv = np.eye(3)\n",
    "for i in range(nsteps):\n",
    "    if i<20:\n",
    "        epsilon_x = i/100*0.5+1e-6\n",
    "        epsilon_y = i/100*0.5+1e-6\n",
    "    else:\n",
    "        epsilon_x = 0.1\n",
    "        epsilon_y = 0.1\n",
    "    sigma_z = 0\n",
    "    normres = 1.0\n",
    "    iter=0\n",
    "    itermax = 20\n",
    "    epsilon_z = 0\n",
    "    eta = 10\n",
    "    while normres>1e-6 and iter<itermax:\n",
    "        # guess for F\n",
    "        F = np.array([[1+epsilon_x, 0, 0], [0, 1+epsilon_y, 0], [0, 0, 1+epsilon_z]])\n",
    "        #print(F)\n",
    "        # GIVEN F and C_i_inv from previous time, compute stress and new C_i_inv\n",
    "        sigma, C_i_inv_new, lamb_e = evalGovindjee(F, C_i_inv, dt)\n",
    "        res = sigma[2,2]-sigma_z\n",
    "\n",
    "        # calculate dres with NR \n",
    "        F_pz = np.array([[1+epsilon_x, 0, 0], [0, 1+epsilon_y, 0], [0, 0, 1+epsilon_z+1e-6]])\n",
    "        sigma_pz, aux, aux2 = evalGovindjee(F_pz, C_i_inv, dt)\n",
    "        dres = (sigma_pz[2,2]-sigma[2,2])/1e-6\n",
    "        deps = -res/dres\n",
    "        epsilon_z += deps\n",
    "        normres = np.abs(res)\n",
    "        iter+=1 \n",
    "    # update the internal variable at end of iterations \n",
    "    C_i_inv = C_i_inv_new\n",
    "    F_vec[i] = F\n",
    "    sigma_x_vec[i] = sigma[0,0]\n",
    "    sigma_y_vec[i] = sigma[1,1]\n",
    "    sigma_z_vec[i] = sigma[2,2]\n",
    "    eps_x_vec[i] = epsilon_x\n",
    "    eps_y_vec[i] = epsilon_y\n",
    "    eps_z_vec[i] = epsilon_z\n",
    "    C_i_inv_vec[i] = C_i_inv\n",
    "    lamb_e_vec[i] = lamb_e\n",
    "be = np.einsum('...ij,...jk,...kl->...il', F_vec, C_i_inv_vec, np.transpose(F_vec,axes=[0,2,1]))\n",
    "lm1e = np.sqrt(be[:,0,0])\n",
    "lm2e = np.sqrt(be[:,1,1])\n",
    "lm3e = np.sqrt(be[:,2,2])\n"
   ]
  },
  {
   "cell_type": "code",
   "execution_count": 47,
   "id": "29b0dc87-c0a6-4c5c-b79c-d5eb0877a21c",
   "metadata": {},
   "outputs": [
    {
     "data": {
      "text/plain": [
       "[<matplotlib.lines.Line2D at 0x1128a4100>]"
      ]
     },
     "execution_count": 47,
     "metadata": {},
     "output_type": "execute_result"
    },
    {
     "data": {
      "image/png": "[encoded data removed]",
      "text/plain": [
       "<Figure size 432x288 with 1 Axes>"
      ]
     },
     "metadata": {
      "needs_background": "light"
     },
     "output_type": "display_data"
    }
   ],
   "source": [
    "plt.plot(sigma_x_vec)\n",
    "plt.plot(sigma_y_vec)\n",
    "plt.plot(sigma_z_vec)"
   ]
  },
  {
   "cell_type": "code",
   "execution_count": 46,
   "id": "e9b37e3f",
   "metadata": {},
   "outputs": [
    {
     "data": {
      "text/plain": [
       "[<matplotlib.lines.Line2D at 0x112829a50>]"
      ]
     },
     "execution_count": 46,
     "metadata": {},
     "output_type": "execute_result"
    },
    {
     "data": {
      "image/png": "[encoded data removed]",
      "text/plain": [
       "<Figure size 432x288 with 1 Axes>"
      ]
     },
     "metadata": {
      "needs_background": "light"
     },
     "output_type": "display_data"
    }
   ],
   "source": [
    "plt.plot(1+eps_x_vec)\n",
    "plt.plot(1+eps_y_vec)\n",
    "plt.plot(1+eps_z_vec)"
   ]
  },
  {
   "cell_type": "code",
   "execution_count": 55,
   "id": "afcded71",
   "metadata": {},
   "outputs": [
    {
     "data": {
      "text/plain": [
       "[<matplotlib.lines.Line2D at 0x1128cfcd0>]"
      ]
     },
     "execution_count": 55,
     "metadata": {},
     "output_type": "execute_result"
    },
    {
     "data": {
      "image/png": "[encoded data removed]",
      "text/plain": [
       "<Figure size 432x288 with 1 Axes>"
      ]
     },
     "metadata": {
      "needs_background": "light"
     },
     "output_type": "display_data"
    }
   ],
   "source": [
    "plt.plot(lm1e)\n",
    "plt.plot(lm2e)\n",
    "plt.plot(lm3e)"
   ]
  },
  {
   "cell_type": "code",
   "execution_count": null,
   "id": "b3a025d0",
   "metadata": {},
   "outputs": [],
   "source": []
  }
 ],
 "metadata": {
  "interpreter": {
   "hash": "920e7a8945330110f9e03acbda53cbdd3d881ab4a4172d15e426a9c275db3432"
  },
  "kernelspec": {
   "display_name": "Python 3.10.4 ('jax')",
   "language": "python",
   "name": "python3"
  },
  "language_info": {
   "codemirror_mode": {
    "name": "ipython",
    "version": 3
   },
   "file_extension": ".py",
   "mimetype": "text/x-python",
   "name": "python",
   "nbconvert_exporter": "python",
   "pygments_lexer": "ipython3",
   "version": "3.10.4"
  }
 },
 "nbformat": 4,
 "nbformat_minor": 5
}
