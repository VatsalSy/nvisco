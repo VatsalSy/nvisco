{
 "cells": [
  {
   "cell_type": "code",
   "execution_count": 12,
   "metadata": {},
   "outputs": [],
   "source": [
    "# Import and initialize\n",
    "from jax.config import config\n",
    "config.update('jax_platform_name', 'cpu') #Otherwise jax displays an annoying warning every time\n",
    "config.update('jax_disable_jit', False)\n",
    "config.update('jax_enable_x64', True)\n",
    "#config.update('jax_debug_nans', True) #this checks outputs for nans everytime and reruns the function with non-optimized mode.\n",
    "\n",
    "\n",
    "import jax.numpy as np\n",
    "import numpy as onp\n",
    "import matplotlib.pyplot as plt\n",
    "import matplotlib\n",
    "font = {'size'   : 16}\n",
    "matplotlib.rc('font', **font)\n",
    "from NODE_fns import NODE\n",
    "from jax import grad, random, jit, jacobian, jacfwd, jacrev, vmap\n",
    "from functools import partial\n",
    "import jax.example_libraries.optimizers as optimizers\n",
    "from jax.lax import while_loop, fori_loop, scan, cond\n",
    "from jax.experimental.ode import odeint\n",
    "import pickle\n",
    "key = random.PRNGKey(0)\n",
    "import timeit"
   ]
  },
  {
   "cell_type": "code",
   "execution_count": 13,
   "metadata": {},
   "outputs": [],
   "source": [
    "# Material parameters:\n",
    "mu_m = np.array([51.4, -18, 3.86])\n",
    "alpha_m = np.array([1.8, -2, 7])\n",
    "K_m = 10000\n",
    "tau = 17.5\n",
    "shear_mod = 1/2*(mu_m[0]*alpha_m[0] + mu_m[1]*alpha_m[1] + mu_m[2]*alpha_m[2])\n",
    "eta_D = tau*shear_mod\n",
    "eta_V = tau*K_m\n",
    "mu = 77.77 #=shear_mod\n",
    "K = 10000"
   ]
  },
  {
   "cell_type": "code",
   "execution_count": 14,
   "metadata": {},
   "outputs": [],
   "source": [
    "# dΦ/dtau_NEQ\n",
    "# Govindjee Φ\n",
    "def dphidtaui_gov(tau_i, etad = 1360, etav = 175000): #This function takes in tau matrix and spits out dphidtau\n",
    "    tau1, tau2, tau3 = tau_i\n",
    "    trtau = tau1 + tau2 + tau3\n",
    "    dphidtau1 = 2*(1/3/etad + 1/9/etav)*trtau - 1/etad*(tau2+tau3)\n",
    "    dphidtau2 = 2*(1/3/etad + 1/9/etav)*trtau - 1/etad*(tau1+tau3)\n",
    "    dphidtau3 = 2*(1/3/etad + 1/9/etav)*trtau - 1/etad*(tau1+tau2)\n",
    "    return [dphidtau1, dphidtau2, dphidtau3]\n",
    "\n",
    "# N-ODE based Φ\n",
    "with open('saved/norm_w_jax.npy', 'rb') as f:\n",
    "    [inp_mean, inp_stdv, out_mean, out_stdv] = pickle.load(f)\n",
    "with open('saved/params_jax.npy', 'rb') as f:\n",
    "    params = pickle.load(f)\n",
    "\n",
    "def dPhi(taui, params):\n",
    "    NODE1_params, NODE2_params, NODE3_params, NODE4_params, NODE5_params = params\n",
    "    \n",
    "    tau1 = taui[0]\n",
    "    tau2 = taui[1]\n",
    "    tau3 = taui[2]\n",
    "\n",
    "    tau1 = (tau1 - inp_mean)/inp_stdv\n",
    "    tau2 = (tau2 - inp_mean)/inp_stdv\n",
    "    tau3 = (tau3 - inp_mean)/inp_stdv\n",
    "\n",
    "    N1 = NODE(tau1, NODE1_params)\n",
    "    N2 = NODE(tau1 + tau2, NODE2_params)\n",
    "    N3 = NODE(tau1 + tau2 + tau3, NODE3_params)\n",
    "    N4 = NODE(tau1**2 + tau2**2 + tau3**2 + 2*tau1*tau2 + 2*tau1*tau3 + 2*tau2*tau3, NODE4_params)\n",
    "    N5 = NODE(tau1**2 + tau2**2 + tau3**2 -   tau1*tau2 -   tau1*tau3 -   tau2*tau3, NODE5_params)\n",
    "\n",
    "    Phi1 = N1 + N2 + N3 + 2*N4*(tau1 + tau2 + tau3) + N5*(2*tau1 - tau2 - tau3) #dphi/dtau1\n",
    "    Phi2 =      N2 + N3 + 2*N4*(tau1 + tau2 + tau3) + N5*(2*tau2 - tau1 - tau3)\n",
    "    Phi3 =           N3 + 2*N4*(tau1 + tau2 + tau3) + N5*(2*tau3 - tau1 - tau2)\n",
    "\n",
    "    Phi1 = Phi1*out_stdv + out_mean\n",
    "    Phi2 = Phi2*out_stdv + out_mean\n",
    "    Phi3 = Phi3*out_stdv + out_mean\n",
    "    return [Phi1, Phi2, Phi3]"
   ]
  },
  {
   "cell_type": "code",
   "execution_count": 55,
   "metadata": {},
   "outputs": [],
   "source": [
    "def tau_NEQ(lm1e, lm2e, lm3e):\n",
    "    Je = lm1e*lm2e*lm3e\n",
    "    \n",
    "    b1 = Je**(-2/3)*lm1e**2\n",
    "    b2 = Je**(-2/3)*lm2e**2\n",
    "    b3 = Je**(-2/3)*lm3e**2\n",
    "\n",
    "    devtau1 = 0\n",
    "    devtau2 = 0\n",
    "    devtau3 = 0\n",
    "    for r in range(3):\n",
    "        e = alpha_m[r]/2\n",
    "        devtau1 = devtau1 + mu_m[r]*(2/3*b1**e - 1/3*(b2**e + b3**e)) #(B8)\n",
    "        devtau2 = devtau2 + mu_m[r]*(2/3*b2**e - 1/3*(b1**e + b3**e))\n",
    "        devtau3 = devtau3 + mu_m[r]*(2/3*b3**e - 1/3*(b1**e + b2**e))\n",
    "    devtau = np.array([devtau1, devtau2, devtau3])\n",
    "\n",
    "    tau_NEQI = 3*K_m/2*(Je**2-1) #(B8)\n",
    "    tau_A = devtau + 1/3*tau_NEQI #(B8)\n",
    "    return tau_A\n",
    "\n",
    "def sigma(inputs):\n",
    "    lm1, lm2, lm3, lm1e, lm2e, lm3e = inputs\n",
    "    J = lm1*lm2*lm3\n",
    "    Je = lm1e*lm2e*lm3e\n",
    "    \n",
    "    b1 = Je**(-2/3)*lm1e**2\n",
    "    b2 = Je**(-2/3)*lm2e**2\n",
    "    b3 = Je**(-2/3)*lm3e**2\n",
    "\n",
    "    devtau1 = 0\n",
    "    devtau2 = 0\n",
    "    devtau3 = 0\n",
    "    for r in range(3):\n",
    "        e = alpha_m[r]/2\n",
    "        devtau1 = devtau1 + mu_m[r]*(2/3*b1**e - 1/3*(b2**e + b3**e)) #(B8)\n",
    "        devtau2 = devtau2 + mu_m[r]*(2/3*b2**e - 1/3*(b1**e + b3**e))\n",
    "        devtau3 = devtau3 + mu_m[r]*(2/3*b3**e - 1/3*(b1**e + b2**e))\n",
    "    devtau = np.array([devtau1, devtau2, devtau3])\n",
    "\n",
    "    tau_NEQI = 3*K_m/2*(Je**2-1) #(B8)\n",
    "    tau_A = devtau + 1/3*tau_NEQI #(B8)\n",
    "    tau_NEQ = np.array([[tau_A[0], 0, 0],\n",
    "                        [0, tau_A[1], 0],\n",
    "                        [0, 0, tau_A[2]]]) #Since stress and strain are coaxial in the isotropic case\n",
    "\n",
    "    b = np.array([[lm1**2, 0, 0],\n",
    "                  [0, lm2**2, 0],\n",
    "                  [0, 0, lm3**2]])\n",
    "    binv = np.array([[lm1**(-2), 0, 0],\n",
    "                     [0, lm2**(-2), 0],\n",
    "                     [0, 0, lm3**(-2)]])\n",
    "\n",
    "    sigma_EQ = mu/J*(b-np.eye(3)) + 2*K*(J-1)*np.eye(3)\n",
    "    sigma = 1/Je*tau_NEQ + sigma_EQ\n",
    "    p = sigma[2,2]*lm3**2\n",
    "    sigma = sigma - p*binv\n",
    "    return sigma\n",
    "getsigma = jit(vmap(sigma))\n",
    "\n",
    "def sigma33(inputs):\n",
    "    lm1, lm2, lm3, lm1e, lm2e, lm3e = inputs\n",
    "    J = lm1*lm2*lm3\n",
    "    Je = lm1e*lm2e*lm3e\n",
    "\n",
    "    b1 = Je**(-2/3)*lm1e**2\n",
    "    b2 = Je**(-2/3)*lm2e**2\n",
    "    b3 = Je**(-2/3)*lm3e**2\n",
    "\n",
    "    devtau3 = 0\n",
    "    for r in range(3):\n",
    "        e = alpha_m[r]/2\n",
    "        devtau3 = devtau3 + mu_m[r]*(2/3*b3**e - 1/3*(b1**e + b2**e))\n",
    "\n",
    "    tau_NEQI = 3*K_m/2*(Je**2-1) #(B8)\n",
    "    tau_3 = devtau3 + 1/3*tau_NEQI #(B8)\n",
    "    tau_NEQ33 = tau_3\n",
    "\n",
    "    sigma_EQ33 = mu/J*(lm3**2-1) + 2*K*(J-1)\n",
    "    sigma33 = 1/Je*tau_NEQ33 + sigma_EQ33\n",
    "    return sigma33\n",
    " \n",
    "dsigma33 = grad(sigma33)"
   ]
  },
  {
   "cell_type": "code",
   "execution_count": 16,
   "metadata": {},
   "outputs": [],
   "source": [
    "def yprime(y, t, lm1max, lm2max, lm1dot, lm2dot,tpeak,params):\n",
    "    lm3, lm1e, lm2e, lm3e = y\n",
    "\n",
    "    true_fun  = lambda t: np.array([1.0+t*lm1dot, 1.0+t*lm2dot, lm1dot, lm2dot])\n",
    "    false_fun = lambda t: np.array([lm1max, lm2max, 0.0, 0.0], dtype='float64')\n",
    "    lm1, lm2, lm1dot, lm2dot = cond(t<tpeak, true_fun, false_fun, t)\n",
    "\n",
    "    tau_A = tau_NEQ(lm1e, lm2e, lm3e)\n",
    "    dphidtaui = dPhi(tau_A, params)\n",
    "    lm1edot = (lm1dot/lm1 - 0.5*dphidtaui[0])*lm1e\n",
    "    lm2edot = (lm2dot/lm2 - 0.5*dphidtaui[1])*lm2e\n",
    "\n",
    "    d = dsigma33([lm1,lm2,lm3,lm1e,lm2e,lm3e])\n",
    "    A = -(d[0]*lm1dot + d[1]*lm2dot + d[3]*lm1edot + d[4]*lm2edot)/d[2]\n",
    "    B = -d[5]/d[2]\n",
    "\n",
    "    Apr = A/lm3\n",
    "    Bpr = B/lm3\n",
    "\n",
    "    lm3edot = (Apr - 0.5*dphidtaui[2])/(1-Bpr*lm3e)*lm3e\n",
    "    lm3dot = A + B*lm3edot\n",
    "    return lm3dot, lm1edot, lm2edot, lm3edot\n",
    "\n",
    "yprimejit = jit(yprime)"
   ]
  },
  {
   "cell_type": "code",
   "execution_count": 38,
   "metadata": {},
   "outputs": [],
   "source": [
    "@jit\n",
    "def biaxial_visco(params, time, lm1, lm2):\n",
    "    ipeak = np.argmax(np.abs(lm1-1.0))\n",
    "    tpeak = time[ipeak]\n",
    "    lm1max = lm1[ipeak]\n",
    "    lm2max = lm2[ipeak]\n",
    "    lm1dot = (lm1max-1.0)/tpeak\n",
    "    lm2dot = (lm2max-1.0)/tpeak\n",
    "\n",
    "    yprime2 = lambda y, t: yprimejit(y,t,lm1max,lm2max,lm1dot,lm2dot,tpeak,params)\n",
    "    y0 = [1.0,1.0,1.0,1.0]\n",
    "    outs = odeint(yprime2, y0, time)\n",
    "    lm3, lm1e, lm2e, lm3e = outs\n",
    "\n",
    "    sig = getsigma([lm1,lm2,lm3,lm1e,lm2e,lm3e])\n",
    "    return sig, lm3, lm1e, lm2e, lm3e"
   ]
  },
  {
   "cell_type": "code",
   "execution_count": 53,
   "metadata": {},
   "outputs": [],
   "source": [
    "time = np.linspace(0,200,201)\n",
    "lm1 = onp.zeros_like(time)\n",
    "lm2 = onp.zeros_like(time)\n",
    "for i in range(time.shape[0]):\n",
    "    lm1[i] = min(1.1,1+time[i]*0.005)\n",
    "    # lm2[i] = min(1.05,1+time[i]*0.005)\n",
    "    lm2[i] = min(1.1,1+time[i]*0.005)\n",
    "sig, lm3, lm1e, lm2e, lm3e = biaxial_visco(params, time, lm1, lm2)"
   ]
  },
  {
   "cell_type": "code",
   "execution_count": 54,
   "metadata": {},
   "outputs": [
    {
     "data": {
      "text/plain": [
       "<matplotlib.legend.Legend at 0x168b19a20>"
      ]
     },
     "execution_count": 54,
     "metadata": {},
     "output_type": "execute_result"
    },
    {
     "data": {
      "image/png": "[encoded data removed]",
      "text/plain": [
       "<Figure size 1080x360 with 3 Axes>"
      ]
     },
     "metadata": {
      "needs_background": "light"
     },
     "output_type": "display_data"
    }
   ],
   "source": [
    "fig, ax = plt.subplots(1,3, figsize=(15,5))\n",
    "\n",
    "ax[0].plot(time,  lm1, label='$\\lambda_1$')\n",
    "ax[0].plot(time,  lm2, label='$\\lambda_2$')\n",
    "ax[0].plot(time,  lm3, label='$\\lambda_3$')\n",
    "ax[0].legend() \n",
    "\n",
    "ax[1].plot(time, lm1e, label='$\\lambda_1^e$')\n",
    "ax[1].plot(time, lm2e, label='$\\lambda_2^e$')\n",
    "ax[1].plot(time, lm3e, label='$\\lambda_3^e$')\n",
    "ax[1].set(yticks=[0.90,0.95,1.00,1.05])\n",
    "ax[1].legend()\n",
    "\n",
    "ax[2].plot(time,sig[:,0,0], label='$\\sigma_{xx}$')\n",
    "ax[2].plot(time,sig[:,1,1], label='$\\sigma_{yy}$')\n",
    "ax[2].plot(time,sig[:,2,2], label='$\\sigma_{zz}$')\n",
    "ax[2].set(xlabel='time', ylabel='$\\sigma$')\n",
    "ax[2].legend() "
   ]
  },
  {
   "cell_type": "code",
   "execution_count": 56,
   "metadata": {},
   "outputs": [
    {
     "name": "stdout",
     "output_type": "stream",
     "text": [
      "5.95 ms ± 17.9 µs per loop (mean ± std. dev. of 7 runs, 100 loops each)\n"
     ]
    }
   ],
   "source": [
    "%%timeit\n",
    "sig, lm3, lm1e, lm2e, lm3e = biaxial_visco(params, time, lm1, lm2)"
   ]
  },
  {
   "cell_type": "code",
   "execution_count": null,
   "metadata": {},
   "outputs": [],
   "source": []
  }
 ],
 "metadata": {
  "interpreter": {
   "hash": "920e7a8945330110f9e03acbda53cbdd3d881ab4a4172d15e426a9c275db3432"
  },
  "kernelspec": {
   "display_name": "Python 3.10.4 ('jax')",
   "language": "python",
   "name": "python3"
  },
  "language_info": {
   "codemirror_mode": {
    "name": "ipython",
    "version": 3
   },
   "file_extension": ".py",
   "mimetype": "text/x-python",
   "name": "python",
   "nbconvert_exporter": "python",
   "pygments_lexer": "ipython3",
   "version": "3.10.4"
  },
  "orig_nbformat": 4
 },
 "nbformat": 4,
 "nbformat_minor": 2
}
